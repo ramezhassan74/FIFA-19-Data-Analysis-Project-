{
 "cells": [
  {
   "cell_type": "code",
   "execution_count": 3,
   "id": "8d0c5b9b",
   "metadata": {},
   "outputs": [],
   "source": [
    "import pandas as pd\n",
    "import numpy as np\n",
    "import matplotlib.pyplot as plt\n",
    "import seaborn as sns\n",
    "import scipy.stats as stats\n",
    "#load the data\n",
    "df_fifa=pd.read_excel(\"D://DATA ANALYSIS//FIFA-19-Data-Analysis-Project--main//FIFA-19-Data-Analysis-Project--main//Fifa2019Data.xlsx\")\n",
    "\n"
   ]
  },
  {
   "cell_type": "code",
   "execution_count": 4,
   "id": "df95e747",
   "metadata": {},
   "outputs": [
    {
     "name": "stdout",
     "output_type": "stream",
     "text": [
      "                  Name   Age Nationality  Overall  Potential  \\\n",
      "0             L. Messi  31.0   Argentina     94.0       94.0   \n",
      "1    Cristiano Ronaldo  33.0    Portugal     94.0       94.0   \n",
      "2            Neymar Jr  26.0      Brazil     92.0       93.0   \n",
      "3               De Gea  27.0       Spain     91.0       93.0   \n",
      "4         K. De Bruyne  27.0     Belgium     91.0       92.0   \n",
      "..                 ...   ...         ...      ...        ...   \n",
      "153            Rodrigo  27.0       Spain     83.0       84.0   \n",
      "154              Pizzi  28.0    Portugal     83.0       83.0   \n",
      "155           K. Kampl  27.0    Slovenia     83.0       83.0   \n",
      "156               Neto  28.0      Brazil     83.0       84.0   \n",
      "157         O. Baumann  28.0     Germany     83.0       84.0   \n",
      "\n",
      "                    Club Preferred Foot Position  Jersey Number  Crossing  \\\n",
      "0           FC Barcelona           Left       RF             10      84.0   \n",
      "1               Juventus          Right       ST              7      79.0   \n",
      "2    Paris Saint-Germain          Right       LW             10       NaN   \n",
      "3      Manchester United          Right       GK              1      17.0   \n",
      "4        Manchester City          Right      RCM              7      93.0   \n",
      "..                   ...            ...      ...            ...       ...   \n",
      "153          Valencia CF           Left       ST              9      72.0   \n",
      "154           SL Benfica          Right      LCM             21      79.0   \n",
      "155           RB Leipzig          Right      LCM             44      72.0   \n",
      "156          Valencia CF          Right       GK             13      11.0   \n",
      "157  TSG 1899 Hoffenheim          Right       GK              1      14.0   \n",
      "\n",
      "     ...  Composure  Marking  StandingTackle  SlidingTackle  GKDiving  \\\n",
      "0    ...         96       33              28             26         6   \n",
      "1    ...         95       28              31             23         7   \n",
      "2    ...         94       27              24             33         9   \n",
      "3    ...         68       15              21             13        90   \n",
      "4    ...         88       68              58             51        15   \n",
      "..   ...        ...      ...             ...            ...       ...   \n",
      "153  ...         77       44              41             40         7   \n",
      "154  ...         85       66              66             52        15   \n",
      "155  ...         83       65              64             59        13   \n",
      "156  ...         64       17              14             15        85   \n",
      "157  ...         52       15              18             14        82   \n",
      "\n",
      "     GKHandling  GKKicking  GKPositioning  GKReflexes      Value  \n",
      "0            11         15             14           8  110500000  \n",
      "1            11         15             14          11   77000000  \n",
      "2             9         15             15          11  118500000  \n",
      "3            85         87             88          94   72000000  \n",
      "4            13          5             10          13  102000000  \n",
      "..          ...        ...            ...         ...        ...  \n",
      "153          13         10             11           5   30500000  \n",
      "154          14          9              9          15   25500000  \n",
      "155          11          7              6          16   26500000  \n",
      "156          79         79             78          82   21000000  \n",
      "157          82         70             82          85   21000000  \n",
      "\n",
      "[158 rows x 44 columns]\n",
      "Index(['Name', 'Age', 'Nationality', 'Overall', 'Potential', 'Club',\n",
      "       'Preferred Foot', 'Position', 'Jersey Number', 'Crossing', 'Finishing',\n",
      "       'HeadingAccuracy', 'ShortPassing', 'Volleys', 'Dribbling', 'Curve',\n",
      "       'FKAccuracy', 'LongPassing', 'BallControl', 'Acceleration',\n",
      "       'SprintSpeed', 'Agility', 'Reactions', 'Balance', 'ShotPower',\n",
      "       'Jumping', 'Stamina', 'Strength', 'LongShots', 'Aggression',\n",
      "       'Interceptions', 'Positioning', 'Vision', 'Penalties', 'Composure',\n",
      "       'Marking', 'StandingTackle', 'SlidingTackle', 'GKDiving', 'GKHandling',\n",
      "       'GKKicking', 'GKPositioning', 'GKReflexes', 'Value'],\n",
      "      dtype='object')\n"
     ]
    }
   ],
   "source": [
    "#look at the data\n",
    "print(df_fifa)\n",
    "df_fifa.columns\n",
    "print(df_fifa.columns)\n"
   ]
  },
  {
   "cell_type": "code",
   "execution_count": 5,
   "id": "9d328b33",
   "metadata": {},
   "outputs": [
    {
     "name": "stdout",
     "output_type": "stream",
     "text": [
      "Index(['Position', 'Overall', 'Finishing', 'ShortPassing', 'BallControl',\n",
      "       'Vision', 'Value'],\n",
      "      dtype='object')\n",
      "    Position  Overall  Finishing  ShortPassing  BallControl  Vision      Value\n",
      "0         RF     94.0         95            90           96      94  110500000\n",
      "1         ST     94.0         94            81           94      82   77000000\n",
      "2         LW     92.0         87            84           95      87  118500000\n",
      "3         GK     91.0         13            50           42      68   72000000\n",
      "4        RCM     91.0         82            92           91      94  102000000\n",
      "..       ...      ...        ...           ...          ...     ...        ...\n",
      "153       ST     83.0         78            78           82      74   30500000\n",
      "154      LCM     83.0         76            83           82      85   25500000\n",
      "155      LCM     83.0         63            84           84      82   26500000\n",
      "156       GK     83.0         15            36           24      42   21000000\n",
      "157       GK     83.0         11            30           17      41   21000000\n",
      "\n",
      "[158 rows x 7 columns]\n"
     ]
    }
   ],
   "source": [
    "#select the columns that we need\n",
    "df=df_fifa[[\"Position\",\"Overall\",\"Finishing\",\"ShortPassing\",\"BallControl\",\"Vision\",\"Value\"]]\n",
    "print(df.columns)\n",
    "print(df)\n"
   ]
  },
  {
   "cell_type": "code",
   "execution_count": 6,
   "id": "6664f9c1",
   "metadata": {},
   "outputs": [
    {
     "data": {
      "application/vnd.microsoft.datawrangler.viewer.v0+json": {
       "columns": [
        {
         "name": "index",
         "rawType": "object",
         "type": "string"
        },
        {
         "name": "Overall",
         "rawType": "float64",
         "type": "float"
        },
        {
         "name": "Finishing",
         "rawType": "float64",
         "type": "float"
        },
        {
         "name": "ShortPassing",
         "rawType": "float64",
         "type": "float"
        },
        {
         "name": "BallControl",
         "rawType": "float64",
         "type": "float"
        },
        {
         "name": "Vision",
         "rawType": "float64",
         "type": "float"
        },
        {
         "name": "Value",
         "rawType": "float64",
         "type": "float"
        }
       ],
       "ref": "d2c186f6-b1b5-4179-a3c1-26092c13e7cf",
       "rows": [
        [
         "count",
         "157.0",
         "158.0",
         "158.0",
         "158.0",
         "158.0",
         "158.0"
        ],
        [
         "mean",
         "85.40127388535032",
         "61.075949367088604",
         "75.81645569620254",
         "75.28481012658227",
         "72.49367088607595",
         "40143670.88607595"
        ],
        [
         "std",
         "2.4201607082987566",
         "25.403882622104735",
         "14.903014959189328",
         "19.959861560907616",
         "14.30457894505996",
         "19254518.647569273"
        ],
        [
         "min",
         "83.0",
         "9.0",
         "30.0",
         "14.0",
         "22.0",
         "4000000.0"
        ],
        [
         "25%",
         "84.0",
         "44.25",
         "75.0",
         "73.0",
         "64.25",
         "28500000.0"
        ],
        [
         "50%",
         "85.0",
         "71.0",
         "81.0",
         "83.0",
         "77.0",
         "34500000.0"
        ],
        [
         "75%",
         "87.0",
         "80.75",
         "84.0",
         "86.0",
         "83.0",
         "46375000.0"
        ],
        [
         "max",
         "94.0",
         "95.0",
         "93.0",
         "96.0",
         "94.0",
         "118500000.0"
        ]
       ],
       "shape": {
        "columns": 6,
        "rows": 8
       }
      },
      "text/html": [
       "<div>\n",
       "<style scoped>\n",
       "    .dataframe tbody tr th:only-of-type {\n",
       "        vertical-align: middle;\n",
       "    }\n",
       "\n",
       "    .dataframe tbody tr th {\n",
       "        vertical-align: top;\n",
       "    }\n",
       "\n",
       "    .dataframe thead th {\n",
       "        text-align: right;\n",
       "    }\n",
       "</style>\n",
       "<table border=\"1\" class=\"dataframe\">\n",
       "  <thead>\n",
       "    <tr style=\"text-align: right;\">\n",
       "      <th></th>\n",
       "      <th>Overall</th>\n",
       "      <th>Finishing</th>\n",
       "      <th>ShortPassing</th>\n",
       "      <th>BallControl</th>\n",
       "      <th>Vision</th>\n",
       "      <th>Value</th>\n",
       "    </tr>\n",
       "  </thead>\n",
       "  <tbody>\n",
       "    <tr>\n",
       "      <th>count</th>\n",
       "      <td>157.000000</td>\n",
       "      <td>158.000000</td>\n",
       "      <td>158.000000</td>\n",
       "      <td>158.000000</td>\n",
       "      <td>158.000000</td>\n",
       "      <td>1.580000e+02</td>\n",
       "    </tr>\n",
       "    <tr>\n",
       "      <th>mean</th>\n",
       "      <td>85.401274</td>\n",
       "      <td>61.075949</td>\n",
       "      <td>75.816456</td>\n",
       "      <td>75.284810</td>\n",
       "      <td>72.493671</td>\n",
       "      <td>4.014367e+07</td>\n",
       "    </tr>\n",
       "    <tr>\n",
       "      <th>std</th>\n",
       "      <td>2.420161</td>\n",
       "      <td>25.403883</td>\n",
       "      <td>14.903015</td>\n",
       "      <td>19.959862</td>\n",
       "      <td>14.304579</td>\n",
       "      <td>1.925452e+07</td>\n",
       "    </tr>\n",
       "    <tr>\n",
       "      <th>min</th>\n",
       "      <td>83.000000</td>\n",
       "      <td>9.000000</td>\n",
       "      <td>30.000000</td>\n",
       "      <td>14.000000</td>\n",
       "      <td>22.000000</td>\n",
       "      <td>4.000000e+06</td>\n",
       "    </tr>\n",
       "    <tr>\n",
       "      <th>25%</th>\n",
       "      <td>84.000000</td>\n",
       "      <td>44.250000</td>\n",
       "      <td>75.000000</td>\n",
       "      <td>73.000000</td>\n",
       "      <td>64.250000</td>\n",
       "      <td>2.850000e+07</td>\n",
       "    </tr>\n",
       "    <tr>\n",
       "      <th>50%</th>\n",
       "      <td>85.000000</td>\n",
       "      <td>71.000000</td>\n",
       "      <td>81.000000</td>\n",
       "      <td>83.000000</td>\n",
       "      <td>77.000000</td>\n",
       "      <td>3.450000e+07</td>\n",
       "    </tr>\n",
       "    <tr>\n",
       "      <th>75%</th>\n",
       "      <td>87.000000</td>\n",
       "      <td>80.750000</td>\n",
       "      <td>84.000000</td>\n",
       "      <td>86.000000</td>\n",
       "      <td>83.000000</td>\n",
       "      <td>4.637500e+07</td>\n",
       "    </tr>\n",
       "    <tr>\n",
       "      <th>max</th>\n",
       "      <td>94.000000</td>\n",
       "      <td>95.000000</td>\n",
       "      <td>93.000000</td>\n",
       "      <td>96.000000</td>\n",
       "      <td>94.000000</td>\n",
       "      <td>1.185000e+08</td>\n",
       "    </tr>\n",
       "  </tbody>\n",
       "</table>\n",
       "</div>"
      ],
      "text/plain": [
       "          Overall   Finishing  ShortPassing  BallControl      Vision  \\\n",
       "count  157.000000  158.000000    158.000000   158.000000  158.000000   \n",
       "mean    85.401274   61.075949     75.816456    75.284810   72.493671   \n",
       "std      2.420161   25.403883     14.903015    19.959862   14.304579   \n",
       "min     83.000000    9.000000     30.000000    14.000000   22.000000   \n",
       "25%     84.000000   44.250000     75.000000    73.000000   64.250000   \n",
       "50%     85.000000   71.000000     81.000000    83.000000   77.000000   \n",
       "75%     87.000000   80.750000     84.000000    86.000000   83.000000   \n",
       "max     94.000000   95.000000     93.000000    96.000000   94.000000   \n",
       "\n",
       "              Value  \n",
       "count  1.580000e+02  \n",
       "mean   4.014367e+07  \n",
       "std    1.925452e+07  \n",
       "min    4.000000e+06  \n",
       "25%    2.850000e+07  \n",
       "50%    3.450000e+07  \n",
       "75%    4.637500e+07  \n",
       "max    1.185000e+08  "
      ]
     },
     "execution_count": 6,
     "metadata": {},
     "output_type": "execute_result"
    }
   ],
   "source": [
    "#check the data\n",
    "df.describe()"
   ]
  },
  {
   "cell_type": "code",
   "execution_count": 7,
   "id": "7e3bb2af",
   "metadata": {},
   "outputs": [
    {
     "name": "stdout",
     "output_type": "stream",
     "text": [
      "          Overall   Finishing  ShortPassing  BallControl      Vision  \\\n",
      "count  158.000000  158.000000    158.000000   158.000000  158.000000   \n",
      "mean    85.401274   61.075949     75.816456    75.284810   72.493671   \n",
      "std      2.412441   25.403883     14.903015    19.959862   14.304579   \n",
      "min     83.000000    9.000000     30.000000    14.000000   22.000000   \n",
      "25%     84.000000   44.250000     75.000000    73.000000   64.250000   \n",
      "50%     85.000000   71.000000     81.000000    83.000000   77.000000   \n",
      "75%     87.000000   80.750000     84.000000    86.000000   83.000000   \n",
      "max     94.000000   95.000000     93.000000    96.000000   94.000000   \n",
      "\n",
      "              Value  \n",
      "count  1.580000e+02  \n",
      "mean   4.014367e+07  \n",
      "std    1.925452e+07  \n",
      "min    4.000000e+06  \n",
      "25%    2.850000e+07  \n",
      "50%    3.450000e+07  \n",
      "75%    4.637500e+07  \n",
      "max    1.185000e+08  \n"
     ]
    },
    {
     "name": "stderr",
     "output_type": "stream",
     "text": [
      "C:\\Users\\HP\\AppData\\Local\\Temp\\ipykernel_9212\\2661130604.py:5: SettingWithCopyWarning: \n",
      "A value is trying to be set on a copy of a slice from a DataFrame.\n",
      "Try using .loc[row_indexer,col_indexer] = value instead\n",
      "\n",
      "See the caveats in the documentation: https://pandas.pydata.org/pandas-docs/stable/user_guide/indexing.html#returning-a-view-versus-a-copy\n",
      "  df[[\"Overall\", \"Finishing\", \"ShortPassing\", \"BallControl\", \"Vision\", \"Value\"]] = imputer.fit_transform(\n"
     ]
    }
   ],
   "source": [
    "#clean the missing data\n",
    "from sklearn.impute import SimpleImputer\n",
    "\n",
    "imputer = SimpleImputer(strategy=\"mean\")  # ممكن تغير لـ \"median\"\n",
    "df[[\"Overall\", \"Finishing\", \"ShortPassing\", \"BallControl\", \"Vision\", \"Value\"]] = imputer.fit_transform(\n",
    "    df[[\"Overall\", \"Finishing\", \"ShortPassing\", \"BallControl\", \"Vision\", \"Value\"]]\n",
    ")\n",
    "\n",
    "print(df.describe())"
   ]
  },
  {
   "cell_type": "code",
   "execution_count": 8,
   "id": "0558a18c",
   "metadata": {},
   "outputs": [
    {
     "name": "stderr",
     "output_type": "stream",
     "text": [
      "C:\\Users\\HP\\AppData\\Local\\Temp\\ipykernel_9212\\3463853307.py:2: SettingWithCopyWarning: \n",
      "A value is trying to be set on a copy of a slice from a DataFrame\n",
      "\n",
      "See the caveats in the documentation: https://pandas.pydata.org/pandas-docs/stable/user_guide/indexing.html#returning-a-view-versus-a-copy\n",
      "  df.drop(df.loc[df[\"Position\"]==\"GK\"].index, inplace=True)\n"
     ]
    },
    {
     "data": {
      "application/vnd.microsoft.datawrangler.viewer.v0+json": {
       "columns": [
        {
         "name": "index",
         "rawType": "int64",
         "type": "integer"
        },
        {
         "name": "Position",
         "rawType": "object",
         "type": "string"
        },
        {
         "name": "Overall",
         "rawType": "float64",
         "type": "float"
        },
        {
         "name": "Finishing",
         "rawType": "float64",
         "type": "float"
        },
        {
         "name": "ShortPassing",
         "rawType": "float64",
         "type": "float"
        },
        {
         "name": "BallControl",
         "rawType": "float64",
         "type": "float"
        },
        {
         "name": "Vision",
         "rawType": "float64",
         "type": "float"
        },
        {
         "name": "Value",
         "rawType": "float64",
         "type": "float"
        }
       ],
       "ref": "40aa5d8a-1a27-4623-862d-51de97a4a6c0",
       "rows": [
        [
         "0",
         "RF",
         "94.0",
         "95.0",
         "90.0",
         "96.0",
         "94.0",
         "110500000.0"
        ],
        [
         "1",
         "ST",
         "94.0",
         "94.0",
         "81.0",
         "94.0",
         "82.0",
         "77000000.0"
        ],
        [
         "2",
         "LW",
         "92.0",
         "87.0",
         "84.0",
         "95.0",
         "87.0",
         "118500000.0"
        ],
        [
         "4",
         "RCM",
         "91.0",
         "82.0",
         "92.0",
         "91.0",
         "94.0",
         "102000000.0"
        ],
        [
         "5",
         "LF",
         "91.0",
         "84.0",
         "89.0",
         "94.0",
         "89.0",
         "93000000.0"
        ],
        [
         "6",
         "RCB",
         "91.0",
         "60.0",
         "78.0",
         "84.0",
         "63.0",
         "51000000.0"
        ],
        [
         "8",
         "ST",
         "90.0",
         "91.0",
         "83.0",
         "89.0",
         "77.0",
         "77000000.0"
        ],
        [
         "9",
         "LCM",
         "90.0",
         "76.0",
         "92.0",
         "90.0",
         "86.0",
         "76500000.0"
        ],
        [
         "10",
         "LCM",
         "90.0",
         "76.0",
         "93.0",
         "94.0",
         "92.0",
         "60000000.0"
        ],
        [
         "11",
         "LF",
         "89.0",
         "84.0",
         "87.0",
         "92.0",
         "87.0",
         "89000000.0"
        ],
        [
         "12",
         "ST",
         "89.0",
         "94.0",
         "80.0",
         "84.0",
         "80.0",
         "83500000.0"
        ],
        [
         "13",
         "CAM",
         "89.0",
         "90.0",
         "83.0",
         "90.0",
         "83.0",
         "78000000.0"
        ],
        [
         "16",
         "CDM",
         "89.0",
         "67.0",
         "89.0",
         "88.0",
         "87.0",
         "51500000.0"
        ],
        [
         "17",
         "LS",
         "89.0",
         "89.0",
         "78.0",
         "82.0",
         "77.0",
         "60000000.0"
        ],
        [
         "19",
         "LCB",
         "89.0",
         "33.0",
         "59.0",
         "57.0",
         "50.0",
         "27000000.0"
        ],
        [
         "20",
         "RM",
         "88.0",
         "90.0",
         "82.0",
         "88.0",
         "82.0",
         "69500000.0"
        ],
        [
         "21",
         "CDM",
         "88.0",
         "59.0",
         "85.0",
         "78.0",
         "77.0",
         "59500000.0"
        ],
        [
         "22",
         "LW",
         "88.0",
         "77.0",
         "85.0",
         "93.0",
         "87.0",
         "62000000.0"
        ],
        [
         "23",
         "LW",
         "88.0",
         "79.0",
         "89.0",
         "95.0",
         "89.0",
         "73500000.0"
        ],
        [
         "24",
         "CAM",
         "88.0",
         "80.0",
         "91.0",
         "91.0",
         "91.0",
         "73500000.0"
        ],
        [
         "25",
         "LW",
         "88.0",
         "79.0",
         "88.0",
         "92.0",
         "90.0",
         "69500000.0"
        ],
        [
         "26",
         "LM",
         "88.0",
         "88.0",
         "77.0",
         "82.0",
         "77.0",
         "59000000.0"
        ],
        [
         "27",
         "LCB",
         "88.0",
         "55.0",
         "81.0",
         "81.0",
         "79.0",
         "46000000.0"
        ],
        [
         "28",
         "LB",
         "88.0",
         "70.0",
         "84.0",
         "92.0",
         "82.0",
         "43000000.0"
        ],
        [
         "29",
         "ST",
         "88.0",
         "86.0",
         "85.0",
         "85.0",
         "79.0",
         "60000000.0"
        ],
        [
         "31",
         "RCB",
         "88.0",
         "38.0",
         "80.0",
         "80.0",
         "72.0",
         "24000000.0"
        ],
        [
         "33",
         "CB",
         "87.0",
         "51.0",
         "81.0",
         "77.0",
         "58.0",
         "57000000.0"
        ],
        [
         "34",
         "ST",
         "87.0",
         "91.0",
         "73.0",
         "81.0",
         "64.0",
         "64500000.0"
        ],
        [
         "35",
         "LCB",
         "87.0",
         "19.0",
         "66.0",
         "60.0",
         "43.0",
         "51000000.0"
        ],
        [
         "36",
         "RDM",
         "87.0",
         "73.0",
         "86.0",
         "90.0",
         "87.0",
         "64000000.0"
        ],
        [
         "38",
         "ST",
         "87.0",
         "87.0",
         "77.0",
         "72.0",
         "76.0",
         "62500000.0"
        ],
        [
         "39",
         "ST",
         "87.0",
         "90.0",
         "74.0",
         "83.0",
         "65.0",
         "52000000.0"
        ],
        [
         "40",
         "LB",
         "87.0",
         "73.0",
         "84.0",
         "84.0",
         "70.0",
         "38000000.0"
        ],
        [
         "41",
         "RF",
         "87.0",
         "86.0",
         "82.0",
         "89.0",
         "83.0",
         "45000000.0"
        ],
        [
         "42",
         "LCB",
         "87.0",
         "56.0",
         "79.0",
         "76.0",
         "68.0",
         "34000000.0"
        ],
        [
         "43",
         "RW",
         "86.0",
         "75.0",
         "85.0",
         "91.0",
         "86.0",
         "59500000.0"
        ],
        [
         "45",
         "LCB",
         "86.0",
         "52.0",
         "76.0",
         "73.0",
         "59.0",
         "44500000.0"
        ],
        [
         "46",
         "RW",
         "86.0",
         "77.0",
         "84.0",
         "87.0",
         "77.0",
         "56500000.0"
        ],
        [
         "47",
         "CAM",
         "86.0",
         "87.0",
         "86.0",
         "88.0",
         "85.0",
         "53000000.0"
        ],
        [
         "48",
         "RCB",
         "86.0",
         "40.0",
         "75.0",
         "77.0",
         "56.0",
         "50000000.0"
        ],
        [
         "49",
         "LCM",
         "86.0",
         "60.0",
         "90.0",
         "88.0",
         "87.0",
         "55000000.0"
        ],
        [
         "50",
         "LB",
         "86.0",
         "55.0",
         "81.0",
         "81.0",
         "70.0",
         "36500000.0"
        ],
        [
         "51",
         "LM",
         "86.0",
         "67.0",
         "84.0",
         "91.0",
         "84.0",
         "46500000.0"
        ],
        [
         "52",
         "CM",
         "86.0",
         "69.0",
         "90.0",
         "90.0",
         "86.0",
         "45500000.0"
        ],
        [
         "53",
         "LM",
         "86.0",
         "87.0",
         "86.0",
         "86.0",
         "86.0",
         "43500000.0"
        ],
        [
         "54",
         "RB",
         "86.0",
         "46.0",
         "81.0",
         "77.0",
         "74.0",
         "35000000.0"
        ],
        [
         "55",
         "RCB",
         "86.0",
         "48.0",
         "77.0",
         "75.0",
         "74.0",
         "30000000.0"
        ],
        [
         "56",
         "RCB",
         "86.0",
         "45.0",
         "79.0",
         "74.0",
         "67.0",
         "39000000.0"
        ],
        [
         "57",
         "CB",
         "86.0",
         "47.0",
         "65.0",
         "64.0",
         "47.0",
         "30000000.0"
        ],
        [
         "58",
         "CDM",
         "86.0",
         "69.0",
         "85.0",
         "82.0",
         "75.0",
         "18000000.0"
        ]
       ],
       "shape": {
        "columns": 7,
        "rows": 138
       }
      },
      "text/html": [
       "<div>\n",
       "<style scoped>\n",
       "    .dataframe tbody tr th:only-of-type {\n",
       "        vertical-align: middle;\n",
       "    }\n",
       "\n",
       "    .dataframe tbody tr th {\n",
       "        vertical-align: top;\n",
       "    }\n",
       "\n",
       "    .dataframe thead th {\n",
       "        text-align: right;\n",
       "    }\n",
       "</style>\n",
       "<table border=\"1\" class=\"dataframe\">\n",
       "  <thead>\n",
       "    <tr style=\"text-align: right;\">\n",
       "      <th></th>\n",
       "      <th>Position</th>\n",
       "      <th>Overall</th>\n",
       "      <th>Finishing</th>\n",
       "      <th>ShortPassing</th>\n",
       "      <th>BallControl</th>\n",
       "      <th>Vision</th>\n",
       "      <th>Value</th>\n",
       "    </tr>\n",
       "  </thead>\n",
       "  <tbody>\n",
       "    <tr>\n",
       "      <th>0</th>\n",
       "      <td>RF</td>\n",
       "      <td>94.0</td>\n",
       "      <td>95.0</td>\n",
       "      <td>90.0</td>\n",
       "      <td>96.0</td>\n",
       "      <td>94.0</td>\n",
       "      <td>110500000.0</td>\n",
       "    </tr>\n",
       "    <tr>\n",
       "      <th>1</th>\n",
       "      <td>ST</td>\n",
       "      <td>94.0</td>\n",
       "      <td>94.0</td>\n",
       "      <td>81.0</td>\n",
       "      <td>94.0</td>\n",
       "      <td>82.0</td>\n",
       "      <td>77000000.0</td>\n",
       "    </tr>\n",
       "    <tr>\n",
       "      <th>2</th>\n",
       "      <td>LW</td>\n",
       "      <td>92.0</td>\n",
       "      <td>87.0</td>\n",
       "      <td>84.0</td>\n",
       "      <td>95.0</td>\n",
       "      <td>87.0</td>\n",
       "      <td>118500000.0</td>\n",
       "    </tr>\n",
       "    <tr>\n",
       "      <th>4</th>\n",
       "      <td>RCM</td>\n",
       "      <td>91.0</td>\n",
       "      <td>82.0</td>\n",
       "      <td>92.0</td>\n",
       "      <td>91.0</td>\n",
       "      <td>94.0</td>\n",
       "      <td>102000000.0</td>\n",
       "    </tr>\n",
       "    <tr>\n",
       "      <th>5</th>\n",
       "      <td>LF</td>\n",
       "      <td>91.0</td>\n",
       "      <td>84.0</td>\n",
       "      <td>89.0</td>\n",
       "      <td>94.0</td>\n",
       "      <td>89.0</td>\n",
       "      <td>93000000.0</td>\n",
       "    </tr>\n",
       "    <tr>\n",
       "      <th>...</th>\n",
       "      <td>...</td>\n",
       "      <td>...</td>\n",
       "      <td>...</td>\n",
       "      <td>...</td>\n",
       "      <td>...</td>\n",
       "      <td>...</td>\n",
       "      <td>...</td>\n",
       "    </tr>\n",
       "    <tr>\n",
       "      <th>151</th>\n",
       "      <td>CB</td>\n",
       "      <td>83.0</td>\n",
       "      <td>37.0</td>\n",
       "      <td>73.0</td>\n",
       "      <td>72.0</td>\n",
       "      <td>65.0</td>\n",
       "      <td>19000000.0</td>\n",
       "    </tr>\n",
       "    <tr>\n",
       "      <th>152</th>\n",
       "      <td>RB</td>\n",
       "      <td>83.0</td>\n",
       "      <td>63.0</td>\n",
       "      <td>86.0</td>\n",
       "      <td>83.0</td>\n",
       "      <td>83.0</td>\n",
       "      <td>26500000.0</td>\n",
       "    </tr>\n",
       "    <tr>\n",
       "      <th>153</th>\n",
       "      <td>ST</td>\n",
       "      <td>83.0</td>\n",
       "      <td>78.0</td>\n",
       "      <td>78.0</td>\n",
       "      <td>82.0</td>\n",
       "      <td>74.0</td>\n",
       "      <td>30500000.0</td>\n",
       "    </tr>\n",
       "    <tr>\n",
       "      <th>154</th>\n",
       "      <td>LCM</td>\n",
       "      <td>83.0</td>\n",
       "      <td>76.0</td>\n",
       "      <td>83.0</td>\n",
       "      <td>82.0</td>\n",
       "      <td>85.0</td>\n",
       "      <td>25500000.0</td>\n",
       "    </tr>\n",
       "    <tr>\n",
       "      <th>155</th>\n",
       "      <td>LCM</td>\n",
       "      <td>83.0</td>\n",
       "      <td>63.0</td>\n",
       "      <td>84.0</td>\n",
       "      <td>84.0</td>\n",
       "      <td>82.0</td>\n",
       "      <td>26500000.0</td>\n",
       "    </tr>\n",
       "  </tbody>\n",
       "</table>\n",
       "<p>138 rows × 7 columns</p>\n",
       "</div>"
      ],
      "text/plain": [
       "    Position  Overall  Finishing  ShortPassing  BallControl  Vision  \\\n",
       "0         RF     94.0       95.0          90.0         96.0    94.0   \n",
       "1         ST     94.0       94.0          81.0         94.0    82.0   \n",
       "2         LW     92.0       87.0          84.0         95.0    87.0   \n",
       "4        RCM     91.0       82.0          92.0         91.0    94.0   \n",
       "5         LF     91.0       84.0          89.0         94.0    89.0   \n",
       "..       ...      ...        ...           ...          ...     ...   \n",
       "151       CB     83.0       37.0          73.0         72.0    65.0   \n",
       "152       RB     83.0       63.0          86.0         83.0    83.0   \n",
       "153       ST     83.0       78.0          78.0         82.0    74.0   \n",
       "154      LCM     83.0       76.0          83.0         82.0    85.0   \n",
       "155      LCM     83.0       63.0          84.0         84.0    82.0   \n",
       "\n",
       "           Value  \n",
       "0    110500000.0  \n",
       "1     77000000.0  \n",
       "2    118500000.0  \n",
       "4    102000000.0  \n",
       "5     93000000.0  \n",
       "..           ...  \n",
       "151   19000000.0  \n",
       "152   26500000.0  \n",
       "153   30500000.0  \n",
       "154   25500000.0  \n",
       "155   26500000.0  \n",
       "\n",
       "[138 rows x 7 columns]"
      ]
     },
     "execution_count": 8,
     "metadata": {},
     "output_type": "execute_result"
    }
   ],
   "source": [
    "#wrangle the data\n",
    "df.drop(df.loc[df[\"Position\"]==\"GK\"].index, inplace=True)\n",
    "df"
   ]
  },
  {
   "cell_type": "code",
   "execution_count": 9,
   "id": "6cf549dd",
   "metadata": {},
   "outputs": [
    {
     "data": {
      "application/vnd.microsoft.datawrangler.viewer.v0+json": {
       "columns": [
        {
         "name": "index",
         "rawType": "object",
         "type": "string"
        },
        {
         "name": "Overall",
         "rawType": "float64",
         "type": "float"
        },
        {
         "name": "Finishing",
         "rawType": "float64",
         "type": "float"
        },
        {
         "name": "ShortPassing",
         "rawType": "float64",
         "type": "float"
        },
        {
         "name": "BallControl",
         "rawType": "float64",
         "type": "float"
        },
        {
         "name": "Vision",
         "rawType": "float64",
         "type": "float"
        },
        {
         "name": "Value",
         "rawType": "float64",
         "type": "float"
        }
       ],
       "ref": "51bd6c6b-dd43-428f-9b69-87b5588a74d7",
       "rows": [
        [
         "count",
         "138.0",
         "138.0",
         "138.0",
         "138.0",
         "138.0",
         "138.0"
        ],
        [
         "mean",
         "85.3623188405797",
         "68.0072463768116",
         "80.85507246376811",
         "82.18840579710145",
         "74.98550724637681",
         "41026811.5942029"
        ],
        [
         "std",
         "2.4041995769128324",
         "18.878596530482692",
         "6.407740215258692",
         "7.843869450144811",
         "12.831294720073176",
         "19363388.358909883"
        ],
        [
         "min",
         "83.0",
         "10.0",
         "59.0",
         "57.0",
         "22.0",
         "4200000.0"
        ],
        [
         "25%",
         "83.25",
         "57.0",
         "77.25",
         "79.25",
         "70.0",
         "29625000.0"
        ],
        [
         "50%",
         "85.0",
         "73.0",
         "82.0",
         "83.5",
         "79.0",
         "35250000.0"
        ],
        [
         "75%",
         "86.75",
         "82.0",
         "85.0",
         "87.0",
         "84.0",
         "49125000.0"
        ],
        [
         "max",
         "94.0",
         "95.0",
         "93.0",
         "96.0",
         "94.0",
         "118500000.0"
        ]
       ],
       "shape": {
        "columns": 6,
        "rows": 8
       }
      },
      "text/html": [
       "<div>\n",
       "<style scoped>\n",
       "    .dataframe tbody tr th:only-of-type {\n",
       "        vertical-align: middle;\n",
       "    }\n",
       "\n",
       "    .dataframe tbody tr th {\n",
       "        vertical-align: top;\n",
       "    }\n",
       "\n",
       "    .dataframe thead th {\n",
       "        text-align: right;\n",
       "    }\n",
       "</style>\n",
       "<table border=\"1\" class=\"dataframe\">\n",
       "  <thead>\n",
       "    <tr style=\"text-align: right;\">\n",
       "      <th></th>\n",
       "      <th>Overall</th>\n",
       "      <th>Finishing</th>\n",
       "      <th>ShortPassing</th>\n",
       "      <th>BallControl</th>\n",
       "      <th>Vision</th>\n",
       "      <th>Value</th>\n",
       "    </tr>\n",
       "  </thead>\n",
       "  <tbody>\n",
       "    <tr>\n",
       "      <th>count</th>\n",
       "      <td>138.000000</td>\n",
       "      <td>138.000000</td>\n",
       "      <td>138.000000</td>\n",
       "      <td>138.000000</td>\n",
       "      <td>138.000000</td>\n",
       "      <td>1.380000e+02</td>\n",
       "    </tr>\n",
       "    <tr>\n",
       "      <th>mean</th>\n",
       "      <td>85.362319</td>\n",
       "      <td>68.007246</td>\n",
       "      <td>80.855072</td>\n",
       "      <td>82.188406</td>\n",
       "      <td>74.985507</td>\n",
       "      <td>4.102681e+07</td>\n",
       "    </tr>\n",
       "    <tr>\n",
       "      <th>std</th>\n",
       "      <td>2.404200</td>\n",
       "      <td>18.878597</td>\n",
       "      <td>6.407740</td>\n",
       "      <td>7.843869</td>\n",
       "      <td>12.831295</td>\n",
       "      <td>1.936339e+07</td>\n",
       "    </tr>\n",
       "    <tr>\n",
       "      <th>min</th>\n",
       "      <td>83.000000</td>\n",
       "      <td>10.000000</td>\n",
       "      <td>59.000000</td>\n",
       "      <td>57.000000</td>\n",
       "      <td>22.000000</td>\n",
       "      <td>4.200000e+06</td>\n",
       "    </tr>\n",
       "    <tr>\n",
       "      <th>25%</th>\n",
       "      <td>83.250000</td>\n",
       "      <td>57.000000</td>\n",
       "      <td>77.250000</td>\n",
       "      <td>79.250000</td>\n",
       "      <td>70.000000</td>\n",
       "      <td>2.962500e+07</td>\n",
       "    </tr>\n",
       "    <tr>\n",
       "      <th>50%</th>\n",
       "      <td>85.000000</td>\n",
       "      <td>73.000000</td>\n",
       "      <td>82.000000</td>\n",
       "      <td>83.500000</td>\n",
       "      <td>79.000000</td>\n",
       "      <td>3.525000e+07</td>\n",
       "    </tr>\n",
       "    <tr>\n",
       "      <th>75%</th>\n",
       "      <td>86.750000</td>\n",
       "      <td>82.000000</td>\n",
       "      <td>85.000000</td>\n",
       "      <td>87.000000</td>\n",
       "      <td>84.000000</td>\n",
       "      <td>4.912500e+07</td>\n",
       "    </tr>\n",
       "    <tr>\n",
       "      <th>max</th>\n",
       "      <td>94.000000</td>\n",
       "      <td>95.000000</td>\n",
       "      <td>93.000000</td>\n",
       "      <td>96.000000</td>\n",
       "      <td>94.000000</td>\n",
       "      <td>1.185000e+08</td>\n",
       "    </tr>\n",
       "  </tbody>\n",
       "</table>\n",
       "</div>"
      ],
      "text/plain": [
       "          Overall   Finishing  ShortPassing  BallControl      Vision  \\\n",
       "count  138.000000  138.000000    138.000000   138.000000  138.000000   \n",
       "mean    85.362319   68.007246     80.855072    82.188406   74.985507   \n",
       "std      2.404200   18.878597      6.407740     7.843869   12.831295   \n",
       "min     83.000000   10.000000     59.000000    57.000000   22.000000   \n",
       "25%     83.250000   57.000000     77.250000    79.250000   70.000000   \n",
       "50%     85.000000   73.000000     82.000000    83.500000   79.000000   \n",
       "75%     86.750000   82.000000     85.000000    87.000000   84.000000   \n",
       "max     94.000000   95.000000     93.000000    96.000000   94.000000   \n",
       "\n",
       "              Value  \n",
       "count  1.380000e+02  \n",
       "mean   4.102681e+07  \n",
       "std    1.936339e+07  \n",
       "min    4.200000e+06  \n",
       "25%    2.962500e+07  \n",
       "50%    3.525000e+07  \n",
       "75%    4.912500e+07  \n",
       "max    1.185000e+08  "
      ]
     },
     "execution_count": 9,
     "metadata": {},
     "output_type": "execute_result"
    }
   ],
   "source": [
    "#check the data again\n",
    "df.describe()"
   ]
  },
  {
   "cell_type": "code",
   "execution_count": 10,
   "id": "d0e67edd",
   "metadata": {},
   "outputs": [
    {
     "name": "stderr",
     "output_type": "stream",
     "text": [
      "C:\\Users\\HP\\AppData\\Local\\Temp\\ipykernel_9212\\2962736739.py:2: SettingWithCopyWarning: \n",
      "A value is trying to be set on a copy of a slice from a DataFrame.\n",
      "Try using .loc[row_indexer,col_indexer] = value instead\n",
      "\n",
      "See the caveats in the documentation: https://pandas.pydata.org/pandas-docs/stable/user_guide/indexing.html#returning-a-view-versus-a-copy\n",
      "  df[\"Value(m)\"]=df[\"Value\"]/1000000\n"
     ]
    },
    {
     "data": {
      "application/vnd.microsoft.datawrangler.viewer.v0+json": {
       "columns": [
        {
         "name": "index",
         "rawType": "int64",
         "type": "integer"
        },
        {
         "name": "Position",
         "rawType": "object",
         "type": "string"
        },
        {
         "name": "Overall",
         "rawType": "float64",
         "type": "float"
        },
        {
         "name": "Finishing",
         "rawType": "float64",
         "type": "float"
        },
        {
         "name": "ShortPassing",
         "rawType": "float64",
         "type": "float"
        },
        {
         "name": "BallControl",
         "rawType": "float64",
         "type": "float"
        },
        {
         "name": "Vision",
         "rawType": "float64",
         "type": "float"
        },
        {
         "name": "Value",
         "rawType": "float64",
         "type": "float"
        },
        {
         "name": "Value(m)",
         "rawType": "float64",
         "type": "float"
        }
       ],
       "ref": "c4f5c67c-6555-4bf2-94e3-dd23273786df",
       "rows": [
        [
         "0",
         "RF",
         "94.0",
         "95.0",
         "90.0",
         "96.0",
         "94.0",
         "110500000.0",
         "110.5"
        ],
        [
         "1",
         "ST",
         "94.0",
         "94.0",
         "81.0",
         "94.0",
         "82.0",
         "77000000.0",
         "77.0"
        ],
        [
         "2",
         "LW",
         "92.0",
         "87.0",
         "84.0",
         "95.0",
         "87.0",
         "118500000.0",
         "118.5"
        ],
        [
         "4",
         "RCM",
         "91.0",
         "82.0",
         "92.0",
         "91.0",
         "94.0",
         "102000000.0",
         "102.0"
        ],
        [
         "5",
         "LF",
         "91.0",
         "84.0",
         "89.0",
         "94.0",
         "89.0",
         "93000000.0",
         "93.0"
        ],
        [
         "6",
         "RCB",
         "91.0",
         "60.0",
         "78.0",
         "84.0",
         "63.0",
         "51000000.0",
         "51.0"
        ],
        [
         "8",
         "ST",
         "90.0",
         "91.0",
         "83.0",
         "89.0",
         "77.0",
         "77000000.0",
         "77.0"
        ],
        [
         "9",
         "LCM",
         "90.0",
         "76.0",
         "92.0",
         "90.0",
         "86.0",
         "76500000.0",
         "76.5"
        ],
        [
         "10",
         "LCM",
         "90.0",
         "76.0",
         "93.0",
         "94.0",
         "92.0",
         "60000000.0",
         "60.0"
        ],
        [
         "11",
         "LF",
         "89.0",
         "84.0",
         "87.0",
         "92.0",
         "87.0",
         "89000000.0",
         "89.0"
        ],
        [
         "12",
         "ST",
         "89.0",
         "94.0",
         "80.0",
         "84.0",
         "80.0",
         "83500000.0",
         "83.5"
        ],
        [
         "13",
         "CAM",
         "89.0",
         "90.0",
         "83.0",
         "90.0",
         "83.0",
         "78000000.0",
         "78.0"
        ],
        [
         "16",
         "CDM",
         "89.0",
         "67.0",
         "89.0",
         "88.0",
         "87.0",
         "51500000.0",
         "51.5"
        ],
        [
         "17",
         "LS",
         "89.0",
         "89.0",
         "78.0",
         "82.0",
         "77.0",
         "60000000.0",
         "60.0"
        ],
        [
         "19",
         "LCB",
         "89.0",
         "33.0",
         "59.0",
         "57.0",
         "50.0",
         "27000000.0",
         "27.0"
        ],
        [
         "20",
         "RM",
         "88.0",
         "90.0",
         "82.0",
         "88.0",
         "82.0",
         "69500000.0",
         "69.5"
        ],
        [
         "21",
         "CDM",
         "88.0",
         "59.0",
         "85.0",
         "78.0",
         "77.0",
         "59500000.0",
         "59.5"
        ],
        [
         "22",
         "LW",
         "88.0",
         "77.0",
         "85.0",
         "93.0",
         "87.0",
         "62000000.0",
         "62.0"
        ],
        [
         "23",
         "LW",
         "88.0",
         "79.0",
         "89.0",
         "95.0",
         "89.0",
         "73500000.0",
         "73.5"
        ],
        [
         "24",
         "CAM",
         "88.0",
         "80.0",
         "91.0",
         "91.0",
         "91.0",
         "73500000.0",
         "73.5"
        ],
        [
         "25",
         "LW",
         "88.0",
         "79.0",
         "88.0",
         "92.0",
         "90.0",
         "69500000.0",
         "69.5"
        ],
        [
         "26",
         "LM",
         "88.0",
         "88.0",
         "77.0",
         "82.0",
         "77.0",
         "59000000.0",
         "59.0"
        ],
        [
         "27",
         "LCB",
         "88.0",
         "55.0",
         "81.0",
         "81.0",
         "79.0",
         "46000000.0",
         "46.0"
        ],
        [
         "28",
         "LB",
         "88.0",
         "70.0",
         "84.0",
         "92.0",
         "82.0",
         "43000000.0",
         "43.0"
        ],
        [
         "29",
         "ST",
         "88.0",
         "86.0",
         "85.0",
         "85.0",
         "79.0",
         "60000000.0",
         "60.0"
        ],
        [
         "31",
         "RCB",
         "88.0",
         "38.0",
         "80.0",
         "80.0",
         "72.0",
         "24000000.0",
         "24.0"
        ],
        [
         "33",
         "CB",
         "87.0",
         "51.0",
         "81.0",
         "77.0",
         "58.0",
         "57000000.0",
         "57.0"
        ],
        [
         "34",
         "ST",
         "87.0",
         "91.0",
         "73.0",
         "81.0",
         "64.0",
         "64500000.0",
         "64.5"
        ],
        [
         "35",
         "LCB",
         "87.0",
         "19.0",
         "66.0",
         "60.0",
         "43.0",
         "51000000.0",
         "51.0"
        ],
        [
         "36",
         "RDM",
         "87.0",
         "73.0",
         "86.0",
         "90.0",
         "87.0",
         "64000000.0",
         "64.0"
        ],
        [
         "38",
         "ST",
         "87.0",
         "87.0",
         "77.0",
         "72.0",
         "76.0",
         "62500000.0",
         "62.5"
        ],
        [
         "39",
         "ST",
         "87.0",
         "90.0",
         "74.0",
         "83.0",
         "65.0",
         "52000000.0",
         "52.0"
        ],
        [
         "40",
         "LB",
         "87.0",
         "73.0",
         "84.0",
         "84.0",
         "70.0",
         "38000000.0",
         "38.0"
        ],
        [
         "41",
         "RF",
         "87.0",
         "86.0",
         "82.0",
         "89.0",
         "83.0",
         "45000000.0",
         "45.0"
        ],
        [
         "42",
         "LCB",
         "87.0",
         "56.0",
         "79.0",
         "76.0",
         "68.0",
         "34000000.0",
         "34.0"
        ],
        [
         "43",
         "RW",
         "86.0",
         "75.0",
         "85.0",
         "91.0",
         "86.0",
         "59500000.0",
         "59.5"
        ],
        [
         "45",
         "LCB",
         "86.0",
         "52.0",
         "76.0",
         "73.0",
         "59.0",
         "44500000.0",
         "44.5"
        ],
        [
         "46",
         "RW",
         "86.0",
         "77.0",
         "84.0",
         "87.0",
         "77.0",
         "56500000.0",
         "56.5"
        ],
        [
         "47",
         "CAM",
         "86.0",
         "87.0",
         "86.0",
         "88.0",
         "85.0",
         "53000000.0",
         "53.0"
        ],
        [
         "48",
         "RCB",
         "86.0",
         "40.0",
         "75.0",
         "77.0",
         "56.0",
         "50000000.0",
         "50.0"
        ],
        [
         "49",
         "LCM",
         "86.0",
         "60.0",
         "90.0",
         "88.0",
         "87.0",
         "55000000.0",
         "55.0"
        ],
        [
         "50",
         "LB",
         "86.0",
         "55.0",
         "81.0",
         "81.0",
         "70.0",
         "36500000.0",
         "36.5"
        ],
        [
         "51",
         "LM",
         "86.0",
         "67.0",
         "84.0",
         "91.0",
         "84.0",
         "46500000.0",
         "46.5"
        ],
        [
         "52",
         "CM",
         "86.0",
         "69.0",
         "90.0",
         "90.0",
         "86.0",
         "45500000.0",
         "45.5"
        ],
        [
         "53",
         "LM",
         "86.0",
         "87.0",
         "86.0",
         "86.0",
         "86.0",
         "43500000.0",
         "43.5"
        ],
        [
         "54",
         "RB",
         "86.0",
         "46.0",
         "81.0",
         "77.0",
         "74.0",
         "35000000.0",
         "35.0"
        ],
        [
         "55",
         "RCB",
         "86.0",
         "48.0",
         "77.0",
         "75.0",
         "74.0",
         "30000000.0",
         "30.0"
        ],
        [
         "56",
         "RCB",
         "86.0",
         "45.0",
         "79.0",
         "74.0",
         "67.0",
         "39000000.0",
         "39.0"
        ],
        [
         "57",
         "CB",
         "86.0",
         "47.0",
         "65.0",
         "64.0",
         "47.0",
         "30000000.0",
         "30.0"
        ],
        [
         "58",
         "CDM",
         "86.0",
         "69.0",
         "85.0",
         "82.0",
         "75.0",
         "18000000.0",
         "18.0"
        ]
       ],
       "shape": {
        "columns": 8,
        "rows": 138
       }
      },
      "text/html": [
       "<div>\n",
       "<style scoped>\n",
       "    .dataframe tbody tr th:only-of-type {\n",
       "        vertical-align: middle;\n",
       "    }\n",
       "\n",
       "    .dataframe tbody tr th {\n",
       "        vertical-align: top;\n",
       "    }\n",
       "\n",
       "    .dataframe thead th {\n",
       "        text-align: right;\n",
       "    }\n",
       "</style>\n",
       "<table border=\"1\" class=\"dataframe\">\n",
       "  <thead>\n",
       "    <tr style=\"text-align: right;\">\n",
       "      <th></th>\n",
       "      <th>Position</th>\n",
       "      <th>Overall</th>\n",
       "      <th>Finishing</th>\n",
       "      <th>ShortPassing</th>\n",
       "      <th>BallControl</th>\n",
       "      <th>Vision</th>\n",
       "      <th>Value</th>\n",
       "      <th>Value(m)</th>\n",
       "    </tr>\n",
       "  </thead>\n",
       "  <tbody>\n",
       "    <tr>\n",
       "      <th>0</th>\n",
       "      <td>RF</td>\n",
       "      <td>94.0</td>\n",
       "      <td>95.0</td>\n",
       "      <td>90.0</td>\n",
       "      <td>96.0</td>\n",
       "      <td>94.0</td>\n",
       "      <td>110500000.0</td>\n",
       "      <td>110.5</td>\n",
       "    </tr>\n",
       "    <tr>\n",
       "      <th>1</th>\n",
       "      <td>ST</td>\n",
       "      <td>94.0</td>\n",
       "      <td>94.0</td>\n",
       "      <td>81.0</td>\n",
       "      <td>94.0</td>\n",
       "      <td>82.0</td>\n",
       "      <td>77000000.0</td>\n",
       "      <td>77.0</td>\n",
       "    </tr>\n",
       "    <tr>\n",
       "      <th>2</th>\n",
       "      <td>LW</td>\n",
       "      <td>92.0</td>\n",
       "      <td>87.0</td>\n",
       "      <td>84.0</td>\n",
       "      <td>95.0</td>\n",
       "      <td>87.0</td>\n",
       "      <td>118500000.0</td>\n",
       "      <td>118.5</td>\n",
       "    </tr>\n",
       "    <tr>\n",
       "      <th>4</th>\n",
       "      <td>RCM</td>\n",
       "      <td>91.0</td>\n",
       "      <td>82.0</td>\n",
       "      <td>92.0</td>\n",
       "      <td>91.0</td>\n",
       "      <td>94.0</td>\n",
       "      <td>102000000.0</td>\n",
       "      <td>102.0</td>\n",
       "    </tr>\n",
       "    <tr>\n",
       "      <th>5</th>\n",
       "      <td>LF</td>\n",
       "      <td>91.0</td>\n",
       "      <td>84.0</td>\n",
       "      <td>89.0</td>\n",
       "      <td>94.0</td>\n",
       "      <td>89.0</td>\n",
       "      <td>93000000.0</td>\n",
       "      <td>93.0</td>\n",
       "    </tr>\n",
       "    <tr>\n",
       "      <th>...</th>\n",
       "      <td>...</td>\n",
       "      <td>...</td>\n",
       "      <td>...</td>\n",
       "      <td>...</td>\n",
       "      <td>...</td>\n",
       "      <td>...</td>\n",
       "      <td>...</td>\n",
       "      <td>...</td>\n",
       "    </tr>\n",
       "    <tr>\n",
       "      <th>151</th>\n",
       "      <td>CB</td>\n",
       "      <td>83.0</td>\n",
       "      <td>37.0</td>\n",
       "      <td>73.0</td>\n",
       "      <td>72.0</td>\n",
       "      <td>65.0</td>\n",
       "      <td>19000000.0</td>\n",
       "      <td>19.0</td>\n",
       "    </tr>\n",
       "    <tr>\n",
       "      <th>152</th>\n",
       "      <td>RB</td>\n",
       "      <td>83.0</td>\n",
       "      <td>63.0</td>\n",
       "      <td>86.0</td>\n",
       "      <td>83.0</td>\n",
       "      <td>83.0</td>\n",
       "      <td>26500000.0</td>\n",
       "      <td>26.5</td>\n",
       "    </tr>\n",
       "    <tr>\n",
       "      <th>153</th>\n",
       "      <td>ST</td>\n",
       "      <td>83.0</td>\n",
       "      <td>78.0</td>\n",
       "      <td>78.0</td>\n",
       "      <td>82.0</td>\n",
       "      <td>74.0</td>\n",
       "      <td>30500000.0</td>\n",
       "      <td>30.5</td>\n",
       "    </tr>\n",
       "    <tr>\n",
       "      <th>154</th>\n",
       "      <td>LCM</td>\n",
       "      <td>83.0</td>\n",
       "      <td>76.0</td>\n",
       "      <td>83.0</td>\n",
       "      <td>82.0</td>\n",
       "      <td>85.0</td>\n",
       "      <td>25500000.0</td>\n",
       "      <td>25.5</td>\n",
       "    </tr>\n",
       "    <tr>\n",
       "      <th>155</th>\n",
       "      <td>LCM</td>\n",
       "      <td>83.0</td>\n",
       "      <td>63.0</td>\n",
       "      <td>84.0</td>\n",
       "      <td>84.0</td>\n",
       "      <td>82.0</td>\n",
       "      <td>26500000.0</td>\n",
       "      <td>26.5</td>\n",
       "    </tr>\n",
       "  </tbody>\n",
       "</table>\n",
       "<p>138 rows × 8 columns</p>\n",
       "</div>"
      ],
      "text/plain": [
       "    Position  Overall  Finishing  ShortPassing  BallControl  Vision  \\\n",
       "0         RF     94.0       95.0          90.0         96.0    94.0   \n",
       "1         ST     94.0       94.0          81.0         94.0    82.0   \n",
       "2         LW     92.0       87.0          84.0         95.0    87.0   \n",
       "4        RCM     91.0       82.0          92.0         91.0    94.0   \n",
       "5         LF     91.0       84.0          89.0         94.0    89.0   \n",
       "..       ...      ...        ...           ...          ...     ...   \n",
       "151       CB     83.0       37.0          73.0         72.0    65.0   \n",
       "152       RB     83.0       63.0          86.0         83.0    83.0   \n",
       "153       ST     83.0       78.0          78.0         82.0    74.0   \n",
       "154      LCM     83.0       76.0          83.0         82.0    85.0   \n",
       "155      LCM     83.0       63.0          84.0         84.0    82.0   \n",
       "\n",
       "           Value  Value(m)  \n",
       "0    110500000.0     110.5  \n",
       "1     77000000.0      77.0  \n",
       "2    118500000.0     118.5  \n",
       "4    102000000.0     102.0  \n",
       "5     93000000.0      93.0  \n",
       "..           ...       ...  \n",
       "151   19000000.0      19.0  \n",
       "152   26500000.0      26.5  \n",
       "153   30500000.0      30.5  \n",
       "154   25500000.0      25.5  \n",
       "155   26500000.0      26.5  \n",
       "\n",
       "[138 rows x 8 columns]"
      ]
     },
     "execution_count": 10,
     "metadata": {},
     "output_type": "execute_result"
    }
   ],
   "source": [
    "#Data wrangling\n",
    "df[\"Value(m)\"]=df[\"Value\"]/1000000\n",
    "df"
   ]
  },
  {
   "cell_type": "code",
   "execution_count": 11,
   "id": "e2798fac",
   "metadata": {},
   "outputs": [],
   "source": [
    "#Data wrangling\n",
    "del df[\"Value\"]\n",
    "del df[\"Position\"]"
   ]
  },
  {
   "cell_type": "code",
   "execution_count": 12,
   "id": "93217e5c",
   "metadata": {},
   "outputs": [
    {
     "data": {
      "image/png": "[encoded data removed]",
      "text/plain": [
       "<Figure size 640x480 with 2 Axes>"
      ]
     },
     "metadata": {},
     "output_type": "display_data"
    }
   ],
   "source": [
    "#correlation by Heatmap\n",
    "corr = df.corr()\n",
    "sns.heatmap(corr, xticklabels=corr.columns, yticklabels=corr.columns, cmap=\"YlGnBu\", annot=True)\n",
    "plt.show()\n"
   ]
  },
  {
   "cell_type": "code",
   "execution_count": 13,
   "id": "edb7f4ca",
   "metadata": {},
   "outputs": [],
   "source": [
    "#regression analysis\n",
    "#\"import the libraries\"\n",
    "from sklearn import linear_model\n",
    "from sklearn.preprocessing import PolynomialFeatures\n",
    "from sklearn.pipeline import Pipeline\n",
    "from sklearn.metrics import mean_squared_error\n",
    "from sklearn.metrics import r2_score\n"
   ]
  },
  {
   "cell_type": "code",
   "execution_count": 14,
   "id": "9ad1993b",
   "metadata": {},
   "outputs": [
    {
     "name": "stdout",
     "output_type": "stream",
     "text": [
      "[0.7128727258302299] [106.87561838513037]\n",
      "[0.7128727258302299, 0.7818279363628998] [106.87561838513037, 81.20884469438546]\n",
      "[0.7128727258302299, 0.7818279363628998, 0.8878296104996868] [106.87561838513037, 81.20884469438546, 41.752493827035664]\n",
      "[0.7128727258302299, 0.7818279363628998, 0.8878296104996868, 0.9832918983563416] [106.87561838513037, 81.20884469438546, 41.752493827035664, 6.2191538591063384]\n",
      "[0.7128727258302299, 0.7818279363628998, 0.8878296104996868, 0.9832918983563416, 1.0] [106.87561838513037, 81.20884469438546, 41.752493827035664, 6.2191538591063384, 1.3876917926218992e-14]\n",
      "[0.7128727258302299, 0.7818279363628998, 0.8878296104996868, 0.9832918983563416, 1.0, 1.0] [106.87561838513037, 81.20884469438546, 41.752493827035664, 6.2191538591063384, 1.3876917926218992e-14, 8.676242933279492e-16]\n",
      "[0.7128727258302299, 0.7818279363628998, 0.8878296104996868, 0.9832918983563416, 1.0, 1.0, 1.0] [106.87561838513037, 81.20884469438546, 41.752493827035664, 6.2191538591063384, 1.3876917926218992e-14, 8.676242933279492e-16, 7.505701925534136e-17]\n",
      "[0.7128727258302299, 0.7818279363628998, 0.8878296104996868, 0.9832918983563416, 1.0, 1.0, 1.0, 1.0] [106.87561838513037, 81.20884469438546, 41.752493827035664, 6.2191538591063384, 1.3876917926218992e-14, 8.676242933279492e-16, 7.505701925534136e-17, 3.460363790103357e-17]\n",
      "[0.7128727258302299, 0.7818279363628998, 0.8878296104996868, 0.9832918983563416, 1.0, 1.0, 1.0, 1.0, 1.0] [106.87561838513037, 81.20884469438546, 41.752493827035664, 6.2191538591063384, 1.3876917926218992e-14, 8.676242933279492e-16, 7.505701925534136e-17, 3.460363790103357e-17, 6.231884856490982e-18]\n",
      "[0.7128727258302299, 0.7818279363628998, 0.8878296104996868, 0.9832918983563416, 1.0, 1.0, 1.0, 1.0, 1.0, 1.0] [106.87561838513037, 81.20884469438546, 41.752493827035664, 6.2191538591063384, 1.3876917926218992e-14, 8.676242933279492e-16, 7.505701925534136e-17, 3.460363790103357e-17, 6.231884856490982e-18, 1.0564227226018173e-17]\n",
      "[0.7128727258302299, 0.7818279363628998, 0.8878296104996868, 0.9832918983563416, 1.0, 1.0, 1.0, 1.0, 1.0, 1.0, 1.0] [106.87561838513037, 81.20884469438546, 41.752493827035664, 6.2191538591063384, 1.3876917926218992e-14, 8.676242933279492e-16, 7.505701925534136e-17, 3.460363790103357e-17, 6.231884856490982e-18, 1.0564227226018173e-17, 1.677306299762733e-18]\n",
      "[0.7128727258302299, 0.7818279363628998, 0.8878296104996868, 0.9832918983563416, 1.0, 1.0, 1.0, 1.0, 1.0, 1.0, 1.0, 1.0] [106.87561838513037, 81.20884469438546, 41.752493827035664, 6.2191538591063384, 1.3876917926218992e-14, 8.676242933279492e-16, 7.505701925534136e-17, 3.460363790103357e-17, 6.231884856490982e-18, 1.0564227226018173e-17, 1.677306299762733e-18, 4.920717568147463e-19]\n",
      "[0.7128727258302299, 0.7818279363628998, 0.8878296104996868, 0.9832918983563416, 1.0, 1.0, 1.0, 1.0, 1.0, 1.0, 1.0, 1.0, 1.0] [106.87561838513037, 81.20884469438546, 41.752493827035664, 6.2191538591063384, 1.3876917926218992e-14, 8.676242933279492e-16, 7.505701925534136e-17, 3.460363790103357e-17, 6.231884856490982e-18, 1.0564227226018173e-17, 1.677306299762733e-18, 4.920717568147463e-19, 2.0150171147698761e-19]\n",
      "[0.7128727258302299, 0.7818279363628998, 0.8878296104996868, 0.9832918983563416, 1.0, 1.0, 1.0, 1.0, 1.0, 1.0, 1.0, 1.0, 1.0, 1.0] [106.87561838513037, 81.20884469438546, 41.752493827035664, 6.2191538591063384, 1.3876917926218992e-14, 8.676242933279492e-16, 7.505701925534136e-17, 3.460363790103357e-17, 6.231884856490982e-18, 1.0564227226018173e-17, 1.677306299762733e-18, 4.920717568147463e-19, 2.0150171147698761e-19, 2.6226563907114363e-19]\n",
      "[0.7128727258302299, 0.7818279363628998, 0.8878296104996868, 0.9832918983563416, 1.0, 1.0, 1.0, 1.0, 1.0, 1.0, 1.0, 1.0, 1.0, 1.0, 1.0] [106.87561838513037, 81.20884469438546, 41.752493827035664, 6.2191538591063384, 1.3876917926218992e-14, 8.676242933279492e-16, 7.505701925534136e-17, 3.460363790103357e-17, 6.231884856490982e-18, 1.0564227226018173e-17, 1.677306299762733e-18, 4.920717568147463e-19, 2.0150171147698761e-19, 2.6226563907114363e-19, 1.3546353784674913e-19]\n",
      "[0.7128727258302299, 0.7818279363628998, 0.8878296104996868, 0.9832918983563416, 1.0, 1.0, 1.0, 1.0, 1.0, 1.0, 1.0, 1.0, 1.0, 1.0, 1.0, 1.0] [106.87561838513037, 81.20884469438546, 41.752493827035664, 6.2191538591063384, 1.3876917926218992e-14, 8.676242933279492e-16, 7.505701925534136e-17, 3.460363790103357e-17, 6.231884856490982e-18, 1.0564227226018173e-17, 1.677306299762733e-18, 4.920717568147463e-19, 2.0150171147698761e-19, 2.6226563907114363e-19, 1.3546353784674913e-19, 1.702883858063009e-19]\n",
      "[0.7128727258302299, 0.7818279363628998, 0.8878296104996868, 0.9832918983563416, 1.0, 1.0, 1.0, 1.0, 1.0, 1.0, 1.0, 1.0, 1.0, 1.0, 1.0, 1.0, 1.0] [106.87561838513037, 81.20884469438546, 41.752493827035664, 6.2191538591063384, 1.3876917926218992e-14, 8.676242933279492e-16, 7.505701925534136e-17, 3.460363790103357e-17, 6.231884856490982e-18, 1.0564227226018173e-17, 1.677306299762733e-18, 4.920717568147463e-19, 2.0150171147698761e-19, 2.6226563907114363e-19, 1.3546353784674913e-19, 1.702883858063009e-19, 4.841486891138284e-20]\n",
      "[0.7128727258302299, 0.7818279363628998, 0.8878296104996868, 0.9832918983563416, 1.0, 1.0, 1.0, 1.0, 1.0, 1.0, 1.0, 1.0, 1.0, 1.0, 1.0, 1.0, 1.0, 1.0] [106.87561838513037, 81.20884469438546, 41.752493827035664, 6.2191538591063384, 1.3876917926218992e-14, 8.676242933279492e-16, 7.505701925534136e-17, 3.460363790103357e-17, 6.231884856490982e-18, 1.0564227226018173e-17, 1.677306299762733e-18, 4.920717568147463e-19, 2.0150171147698761e-19, 2.6226563907114363e-19, 1.3546353784674913e-19, 1.702883858063009e-19, 4.841486891138284e-20, 2.687184718333483e-20]\n",
      "[0.7128727258302299, 0.7818279363628998, 0.8878296104996868, 0.9832918983563416, 1.0, 1.0, 1.0, 1.0, 1.0, 1.0, 1.0, 1.0, 1.0, 1.0, 1.0, 1.0, 1.0, 1.0, 1.0] [106.87561838513037, 81.20884469438546, 41.752493827035664, 6.2191538591063384, 1.3876917926218992e-14, 8.676242933279492e-16, 7.505701925534136e-17, 3.460363790103357e-17, 6.231884856490982e-18, 1.0564227226018173e-17, 1.677306299762733e-18, 4.920717568147463e-19, 2.0150171147698761e-19, 2.6226563907114363e-19, 1.3546353784674913e-19, 1.702883858063009e-19, 4.841486891138284e-20, 2.687184718333483e-20, 2.2321438198394545e-20]\n",
      "[0.7128727258302299, 0.7818279363628998, 0.8878296104996868, 0.9832918983563416, 1.0, 1.0, 1.0, 1.0, 1.0, 1.0, 1.0, 1.0, 1.0, 1.0, 1.0, 1.0, 1.0, 1.0, 1.0, 1.0] [106.87561838513037, 81.20884469438546, 41.752493827035664, 6.2191538591063384, 1.3876917926218992e-14, 8.676242933279492e-16, 7.505701925534136e-17, 3.460363790103357e-17, 6.231884856490982e-18, 1.0564227226018173e-17, 1.677306299762733e-18, 4.920717568147463e-19, 2.0150171147698761e-19, 2.6226563907114363e-19, 1.3546353784674913e-19, 1.702883858063009e-19, 4.841486891138284e-20, 2.687184718333483e-20, 2.2321438198394545e-20, 7.455235292834511e-21]\n"
     ]
    }
   ],
   "source": [
    "r2=[]\n",
    "MSE=[]\n",
    "degree=[1,2,3,4,5,6,7,8,9,10,11,12,13,14,15,16,17,18,19,20]\n",
    "for i in degree:\n",
    "    Input=[(('polynomial'), PolynomialFeatures(degree=i)), ('modal', linear_model.LinearRegression())]\n",
    "    pipe=Pipeline(Input)\n",
    "    pipe.fit(df[[\"Overall\",\"Finishing\",\"ShortPassing\",\"BallControl\",\"Vision\"]],df[\"Value(m)\"])\n",
    "    Yhat=pipe.predict(df[[\"Overall\",\"Finishing\",\"ShortPassing\",\"BallControl\",\"Vision\"]])\n",
    "    \n",
    "    r2_value=r2_score(df[\"Value(m)\"],Yhat)\n",
    "    r2.append(r2_value)\n",
    "    \n",
    "    MSE_value=mean_squared_error(df[\"Value(m)\"],Yhat)\n",
    "    MSE.append(MSE_value)\n",
    "    print (r2,MSE)"
   ]
  },
  {
   "cell_type": "code",
   "execution_count": 15,
   "id": "4ea1680f",
   "metadata": {},
   "outputs": [],
   "source": [
    "#we will choose the 4th degree because it has the highest R2 and lowest MSE\n",
    "Input=[(('polynomial'), PolynomialFeatures(degree=4)), ('mode', linear_model.LinearRegression())]\n",
    "pipe=Pipeline(Input)\n",
    "pipe.fit(df[[\"Overall\",\"Finishing\",\"ShortPassing\",\"BallControl\",\"Vision\"]],df[\"Value(m)\"])\n",
    "Yhat=pipe.predict(df[[\"Overall\",\"Finishing\",\"ShortPassing\",\"BallControl\",\"Vision\"]])"
   ]
  },
  {
   "cell_type": "code",
   "execution_count": 16,
   "id": "e0e5d269",
   "metadata": {},
   "outputs": [
    {
     "data": {
      "application/vnd.microsoft.datawrangler.viewer.v0+json": {
       "columns": [
        {
         "name": "index",
         "rawType": "int64",
         "type": "integer"
        },
        {
         "name": "Overall",
         "rawType": "float64",
         "type": "float"
        },
        {
         "name": "Finishing",
         "rawType": "float64",
         "type": "float"
        },
        {
         "name": "ShortPassing",
         "rawType": "float64",
         "type": "float"
        },
        {
         "name": "BallControl",
         "rawType": "float64",
         "type": "float"
        },
        {
         "name": "Vision",
         "rawType": "float64",
         "type": "float"
        },
        {
         "name": "Actual Value(m)",
         "rawType": "float64",
         "type": "float"
        },
        {
         "name": "Predicted Value(m)",
         "rawType": "float64",
         "type": "float"
        }
       ],
       "ref": "4e39db68-41a5-461a-b2df-224f4658ef3e",
       "rows": [
        [
         "0",
         "94.0",
         "95.0",
         "90.0",
         "96.0",
         "94.0",
         "110.5",
         "110.62821960868314"
        ],
        [
         "1",
         "94.0",
         "94.0",
         "81.0",
         "94.0",
         "82.0",
         "77.0",
         "76.98695545038208"
        ],
        [
         "2",
         "92.0",
         "87.0",
         "84.0",
         "95.0",
         "87.0",
         "118.5",
         "118.35700400732458"
        ],
        [
         "4",
         "91.0",
         "82.0",
         "92.0",
         "91.0",
         "94.0",
         "102.0",
         "101.96965678036213"
        ],
        [
         "5",
         "91.0",
         "84.0",
         "89.0",
         "94.0",
         "89.0",
         "93.0",
         "91.57442122511566"
        ],
        [
         "6",
         "91.0",
         "60.0",
         "78.0",
         "84.0",
         "63.0",
         "51.0",
         "51.08034539362416"
        ],
        [
         "8",
         "90.0",
         "91.0",
         "83.0",
         "89.0",
         "77.0",
         "77.0",
         "77.11574138654396"
        ],
        [
         "9",
         "90.0",
         "76.0",
         "92.0",
         "90.0",
         "86.0",
         "76.5",
         "76.48356663575396"
        ],
        [
         "10",
         "90.0",
         "76.0",
         "93.0",
         "94.0",
         "92.0",
         "60.0",
         "60.98896479792893"
        ],
        [
         "11",
         "89.0",
         "84.0",
         "87.0",
         "92.0",
         "87.0",
         "89.0",
         "90.5106126172468"
        ],
        [
         "12",
         "89.0",
         "94.0",
         "80.0",
         "84.0",
         "80.0",
         "83.5",
         "82.91855775006115"
        ],
        [
         "13",
         "89.0",
         "90.0",
         "83.0",
         "90.0",
         "83.0",
         "78.0",
         "79.42051776498556"
        ],
        [
         "16",
         "89.0",
         "67.0",
         "89.0",
         "88.0",
         "87.0",
         "51.5",
         "50.89374815998599"
        ],
        [
         "17",
         "89.0",
         "89.0",
         "78.0",
         "82.0",
         "77.0",
         "60.0",
         "60.78202388389036"
        ],
        [
         "19",
         "89.0",
         "33.0",
         "59.0",
         "57.0",
         "50.0",
         "27.0",
         "27.011149579659104"
        ],
        [
         "20",
         "88.0",
         "90.0",
         "82.0",
         "88.0",
         "82.0",
         "69.5",
         "67.83325160341337"
        ],
        [
         "21",
         "88.0",
         "59.0",
         "85.0",
         "78.0",
         "77.0",
         "59.5",
         "59.72907335497439"
        ],
        [
         "22",
         "88.0",
         "77.0",
         "85.0",
         "93.0",
         "87.0",
         "62.0",
         "62.57748834695667"
        ],
        [
         "23",
         "88.0",
         "79.0",
         "89.0",
         "95.0",
         "89.0",
         "73.5",
         "73.57481636572629"
        ],
        [
         "24",
         "88.0",
         "80.0",
         "91.0",
         "91.0",
         "91.0",
         "73.5",
         "71.68408065196127"
        ],
        [
         "25",
         "88.0",
         "79.0",
         "88.0",
         "92.0",
         "90.0",
         "69.5",
         "70.57336261728778"
        ],
        [
         "26",
         "88.0",
         "88.0",
         "77.0",
         "82.0",
         "77.0",
         "59.0",
         "58.16614768607542"
        ],
        [
         "27",
         "88.0",
         "55.0",
         "81.0",
         "81.0",
         "79.0",
         "46.0",
         "46.414049295242876"
        ],
        [
         "28",
         "88.0",
         "70.0",
         "84.0",
         "92.0",
         "82.0",
         "43.0",
         "43.0847682938911"
        ],
        [
         "29",
         "88.0",
         "86.0",
         "85.0",
         "85.0",
         "79.0",
         "60.0",
         "59.980870614759624"
        ],
        [
         "31",
         "88.0",
         "38.0",
         "80.0",
         "80.0",
         "72.0",
         "24.0",
         "23.98108691163361"
        ],
        [
         "33",
         "87.0",
         "51.0",
         "81.0",
         "77.0",
         "58.0",
         "57.0",
         "56.84376702643931"
        ],
        [
         "34",
         "87.0",
         "91.0",
         "73.0",
         "81.0",
         "64.0",
         "64.5",
         "64.6183728594333"
        ],
        [
         "35",
         "87.0",
         "19.0",
         "66.0",
         "60.0",
         "43.0",
         "51.0",
         "51.02205845946446"
        ],
        [
         "36",
         "87.0",
         "73.0",
         "86.0",
         "90.0",
         "87.0",
         "64.0",
         "64.44526408892125"
        ],
        [
         "38",
         "87.0",
         "87.0",
         "77.0",
         "72.0",
         "76.0",
         "62.5",
         "62.50559773482382"
        ],
        [
         "39",
         "87.0",
         "90.0",
         "74.0",
         "83.0",
         "65.0",
         "52.0",
         "51.84246866684407"
        ],
        [
         "40",
         "87.0",
         "73.0",
         "84.0",
         "84.0",
         "70.0",
         "38.0",
         "37.98815122852102"
        ],
        [
         "41",
         "87.0",
         "86.0",
         "82.0",
         "89.0",
         "83.0",
         "45.0",
         "43.66175885684788"
        ],
        [
         "42",
         "87.0",
         "56.0",
         "79.0",
         "76.0",
         "68.0",
         "34.0",
         "33.53198511339724"
        ],
        [
         "43",
         "86.0",
         "75.0",
         "85.0",
         "91.0",
         "86.0",
         "59.5",
         "56.391830587759614"
        ],
        [
         "45",
         "86.0",
         "52.0",
         "76.0",
         "73.0",
         "59.0",
         "44.5",
         "44.038856418803334"
        ],
        [
         "46",
         "86.0",
         "77.0",
         "84.0",
         "87.0",
         "77.0",
         "56.5",
         "53.78983556572348"
        ],
        [
         "47",
         "86.0",
         "87.0",
         "86.0",
         "88.0",
         "85.0",
         "53.0",
         "53.45091706234962"
        ],
        [
         "48",
         "86.0",
         "40.0",
         "75.0",
         "77.0",
         "56.0",
         "50.0",
         "49.70012244768441"
        ],
        [
         "49",
         "86.0",
         "60.0",
         "90.0",
         "88.0",
         "87.0",
         "55.0",
         "55.30027521727607"
        ],
        [
         "50",
         "86.0",
         "55.0",
         "81.0",
         "81.0",
         "70.0",
         "36.5",
         "37.57509416434914"
        ],
        [
         "51",
         "86.0",
         "67.0",
         "84.0",
         "91.0",
         "84.0",
         "46.5",
         "46.298737389966846"
        ],
        [
         "52",
         "86.0",
         "69.0",
         "90.0",
         "90.0",
         "86.0",
         "45.5",
         "44.06275821616873"
        ],
        [
         "53",
         "86.0",
         "87.0",
         "86.0",
         "86.0",
         "86.0",
         "43.5",
         "45.53450757963583"
        ],
        [
         "54",
         "86.0",
         "46.0",
         "81.0",
         "77.0",
         "74.0",
         "35.0",
         "33.953272042796016"
        ],
        [
         "55",
         "86.0",
         "48.0",
         "77.0",
         "75.0",
         "74.0",
         "30.0",
         "29.95071071293205"
        ],
        [
         "56",
         "86.0",
         "45.0",
         "79.0",
         "74.0",
         "67.0",
         "39.0",
         "39.95619711931795"
        ],
        [
         "57",
         "86.0",
         "47.0",
         "65.0",
         "64.0",
         "47.0",
         "30.0",
         "29.989969198592007"
        ],
        [
         "58",
         "86.0",
         "69.0",
         "85.0",
         "82.0",
         "75.0",
         "18.0",
         "19.119936749339104"
        ]
       ],
       "shape": {
        "columns": 7,
        "rows": 138
       }
      },
      "text/html": [
       "<div>\n",
       "<style scoped>\n",
       "    .dataframe tbody tr th:only-of-type {\n",
       "        vertical-align: middle;\n",
       "    }\n",
       "\n",
       "    .dataframe tbody tr th {\n",
       "        vertical-align: top;\n",
       "    }\n",
       "\n",
       "    .dataframe thead th {\n",
       "        text-align: right;\n",
       "    }\n",
       "</style>\n",
       "<table border=\"1\" class=\"dataframe\">\n",
       "  <thead>\n",
       "    <tr style=\"text-align: right;\">\n",
       "      <th></th>\n",
       "      <th>Overall</th>\n",
       "      <th>Finishing</th>\n",
       "      <th>ShortPassing</th>\n",
       "      <th>BallControl</th>\n",
       "      <th>Vision</th>\n",
       "      <th>Actual Value(m)</th>\n",
       "      <th>Predicted Value(m)</th>\n",
       "    </tr>\n",
       "  </thead>\n",
       "  <tbody>\n",
       "    <tr>\n",
       "      <th>0</th>\n",
       "      <td>94.0</td>\n",
       "      <td>95.0</td>\n",
       "      <td>90.0</td>\n",
       "      <td>96.0</td>\n",
       "      <td>94.0</td>\n",
       "      <td>110.5</td>\n",
       "      <td>110.628220</td>\n",
       "    </tr>\n",
       "    <tr>\n",
       "      <th>1</th>\n",
       "      <td>94.0</td>\n",
       "      <td>94.0</td>\n",
       "      <td>81.0</td>\n",
       "      <td>94.0</td>\n",
       "      <td>82.0</td>\n",
       "      <td>77.0</td>\n",
       "      <td>76.986955</td>\n",
       "    </tr>\n",
       "    <tr>\n",
       "      <th>2</th>\n",
       "      <td>92.0</td>\n",
       "      <td>87.0</td>\n",
       "      <td>84.0</td>\n",
       "      <td>95.0</td>\n",
       "      <td>87.0</td>\n",
       "      <td>118.5</td>\n",
       "      <td>118.357004</td>\n",
       "    </tr>\n",
       "    <tr>\n",
       "      <th>4</th>\n",
       "      <td>91.0</td>\n",
       "      <td>82.0</td>\n",
       "      <td>92.0</td>\n",
       "      <td>91.0</td>\n",
       "      <td>94.0</td>\n",
       "      <td>102.0</td>\n",
       "      <td>101.969657</td>\n",
       "    </tr>\n",
       "    <tr>\n",
       "      <th>5</th>\n",
       "      <td>91.0</td>\n",
       "      <td>84.0</td>\n",
       "      <td>89.0</td>\n",
       "      <td>94.0</td>\n",
       "      <td>89.0</td>\n",
       "      <td>93.0</td>\n",
       "      <td>91.574421</td>\n",
       "    </tr>\n",
       "    <tr>\n",
       "      <th>...</th>\n",
       "      <td>...</td>\n",
       "      <td>...</td>\n",
       "      <td>...</td>\n",
       "      <td>...</td>\n",
       "      <td>...</td>\n",
       "      <td>...</td>\n",
       "      <td>...</td>\n",
       "    </tr>\n",
       "    <tr>\n",
       "      <th>151</th>\n",
       "      <td>83.0</td>\n",
       "      <td>37.0</td>\n",
       "      <td>73.0</td>\n",
       "      <td>72.0</td>\n",
       "      <td>65.0</td>\n",
       "      <td>19.0</td>\n",
       "      <td>18.705695</td>\n",
       "    </tr>\n",
       "    <tr>\n",
       "      <th>152</th>\n",
       "      <td>83.0</td>\n",
       "      <td>63.0</td>\n",
       "      <td>86.0</td>\n",
       "      <td>83.0</td>\n",
       "      <td>83.0</td>\n",
       "      <td>26.5</td>\n",
       "      <td>26.678740</td>\n",
       "    </tr>\n",
       "    <tr>\n",
       "      <th>153</th>\n",
       "      <td>83.0</td>\n",
       "      <td>78.0</td>\n",
       "      <td>78.0</td>\n",
       "      <td>82.0</td>\n",
       "      <td>74.0</td>\n",
       "      <td>30.5</td>\n",
       "      <td>36.961368</td>\n",
       "    </tr>\n",
       "    <tr>\n",
       "      <th>154</th>\n",
       "      <td>83.0</td>\n",
       "      <td>76.0</td>\n",
       "      <td>83.0</td>\n",
       "      <td>82.0</td>\n",
       "      <td>85.0</td>\n",
       "      <td>25.5</td>\n",
       "      <td>25.665974</td>\n",
       "    </tr>\n",
       "    <tr>\n",
       "      <th>155</th>\n",
       "      <td>83.0</td>\n",
       "      <td>63.0</td>\n",
       "      <td>84.0</td>\n",
       "      <td>84.0</td>\n",
       "      <td>82.0</td>\n",
       "      <td>26.5</td>\n",
       "      <td>24.384205</td>\n",
       "    </tr>\n",
       "  </tbody>\n",
       "</table>\n",
       "<p>138 rows × 7 columns</p>\n",
       "</div>"
      ],
      "text/plain": [
       "     Overall  Finishing  ShortPassing  BallControl  Vision  Actual Value(m)  \\\n",
       "0       94.0       95.0          90.0         96.0    94.0            110.5   \n",
       "1       94.0       94.0          81.0         94.0    82.0             77.0   \n",
       "2       92.0       87.0          84.0         95.0    87.0            118.5   \n",
       "4       91.0       82.0          92.0         91.0    94.0            102.0   \n",
       "5       91.0       84.0          89.0         94.0    89.0             93.0   \n",
       "..       ...        ...           ...          ...     ...              ...   \n",
       "151     83.0       37.0          73.0         72.0    65.0             19.0   \n",
       "152     83.0       63.0          86.0         83.0    83.0             26.5   \n",
       "153     83.0       78.0          78.0         82.0    74.0             30.5   \n",
       "154     83.0       76.0          83.0         82.0    85.0             25.5   \n",
       "155     83.0       63.0          84.0         84.0    82.0             26.5   \n",
       "\n",
       "     Predicted Value(m)  \n",
       "0            110.628220  \n",
       "1             76.986955  \n",
       "2            118.357004  \n",
       "4            101.969657  \n",
       "5             91.574421  \n",
       "..                  ...  \n",
       "151           18.705695  \n",
       "152           26.678740  \n",
       "153           36.961368  \n",
       "154           25.665974  \n",
       "155           24.384205  \n",
       "\n",
       "[138 rows x 7 columns]"
      ]
     },
     "execution_count": 16,
     "metadata": {},
     "output_type": "execute_result"
    }
   ],
   "source": [
    "#Contunue the analysis\n",
    "result_final=pd.DataFrame({\"Overall\":df[\"Overall\"],\"Finishing\":df[\"Finishing\"],\"ShortPassing\":df[\"ShortPassing\"],\"BallControl\":df[\"BallControl\"],\"Vision\":df[\"Vision\"],\"Actual Value(m)\":df[\"Value(m)\"],\"Predicted Value(m)\":Yhat})\n",
    "result_final"
   ]
  },
  {
   "cell_type": "code",
   "execution_count": 17,
   "id": "cba5d5aa",
   "metadata": {},
   "outputs": [
    {
     "data": {
      "application/vnd.microsoft.datawrangler.viewer.v0+json": {
       "columns": [
        {
         "name": "index",
         "rawType": "int64",
         "type": "integer"
        },
        {
         "name": "Name",
         "rawType": "object",
         "type": "string"
        },
        {
         "name": "Overall",
         "rawType": "int64",
         "type": "integer"
        },
        {
         "name": "Finishing",
         "rawType": "int64",
         "type": "integer"
        },
        {
         "name": "ShortPassing",
         "rawType": "int64",
         "type": "integer"
        },
        {
         "name": "BallControl",
         "rawType": "int64",
         "type": "integer"
        },
        {
         "name": "Vision",
         "rawType": "int64",
         "type": "integer"
        }
       ],
       "ref": "c02e39f5-2bb4-40ee-85a6-82a3b7dbaf2c",
       "rows": [
        [
         "0",
         "Ronaldo",
         "92",
         "99",
         "80",
         "89",
         "80"
        ],
        [
         "1",
         "Kaka",
         "88",
         "90",
         "90",
         "87",
         "94"
        ],
        [
         "2",
         "Beckham",
         "87",
         "88",
         "95",
         "85",
         "95"
        ],
        [
         "3",
         "Henry",
         "90",
         "95",
         "86",
         "87",
         "90"
        ]
       ],
       "shape": {
        "columns": 6,
        "rows": 4
       }
      },
      "text/html": [
       "<div>\n",
       "<style scoped>\n",
       "    .dataframe tbody tr th:only-of-type {\n",
       "        vertical-align: middle;\n",
       "    }\n",
       "\n",
       "    .dataframe tbody tr th {\n",
       "        vertical-align: top;\n",
       "    }\n",
       "\n",
       "    .dataframe thead th {\n",
       "        text-align: right;\n",
       "    }\n",
       "</style>\n",
       "<table border=\"1\" class=\"dataframe\">\n",
       "  <thead>\n",
       "    <tr style=\"text-align: right;\">\n",
       "      <th></th>\n",
       "      <th>Name</th>\n",
       "      <th>Overall</th>\n",
       "      <th>Finishing</th>\n",
       "      <th>ShortPassing</th>\n",
       "      <th>BallControl</th>\n",
       "      <th>Vision</th>\n",
       "    </tr>\n",
       "  </thead>\n",
       "  <tbody>\n",
       "    <tr>\n",
       "      <th>0</th>\n",
       "      <td>Ronaldo</td>\n",
       "      <td>92</td>\n",
       "      <td>99</td>\n",
       "      <td>80</td>\n",
       "      <td>89</td>\n",
       "      <td>80</td>\n",
       "    </tr>\n",
       "    <tr>\n",
       "      <th>1</th>\n",
       "      <td>Kaka</td>\n",
       "      <td>88</td>\n",
       "      <td>90</td>\n",
       "      <td>90</td>\n",
       "      <td>87</td>\n",
       "      <td>94</td>\n",
       "    </tr>\n",
       "    <tr>\n",
       "      <th>2</th>\n",
       "      <td>Beckham</td>\n",
       "      <td>87</td>\n",
       "      <td>88</td>\n",
       "      <td>95</td>\n",
       "      <td>85</td>\n",
       "      <td>95</td>\n",
       "    </tr>\n",
       "    <tr>\n",
       "      <th>3</th>\n",
       "      <td>Henry</td>\n",
       "      <td>90</td>\n",
       "      <td>95</td>\n",
       "      <td>86</td>\n",
       "      <td>87</td>\n",
       "      <td>90</td>\n",
       "    </tr>\n",
       "  </tbody>\n",
       "</table>\n",
       "</div>"
      ],
      "text/plain": [
       "      Name  Overall  Finishing  ShortPassing  BallControl  Vision\n",
       "0  Ronaldo       92         99            80           89      80\n",
       "1     Kaka       88         90            90           87      94\n",
       "2  Beckham       87         88            95           85      95\n",
       "3    Henry       90         95            86           87      90"
      ]
     },
     "execution_count": 17,
     "metadata": {},
     "output_type": "execute_result"
    }
   ],
   "source": [
    "#read the dataset of New players\n",
    "df_new=pd.read_excel(\"D://DATA ANALYSIS//FIFA-19-Data-Analysis-Project--main//FIFA-19-Data-Analysis-Project--main//new_players.xlsx\")\n",
    "del df_new [\"Dribbling\"]\n",
    "df_new"
   ]
  },
  {
   "cell_type": "code",
   "execution_count": 18,
   "id": "08096ae9",
   "metadata": {},
   "outputs": [
    {
     "data": {
      "text/plain": [
       "array([ 348.66008835, -217.97475963, -602.26530845, -147.25425446])"
      ]
     },
     "execution_count": 18,
     "metadata": {},
     "output_type": "execute_result"
    }
   ],
   "source": [
    "#predict the new values of new players\n",
    "value_pred=pipe.predict(df_new[[\"Overall\",\"Finishing\",\"ShortPassing\",\"BallControl\",\"Vision\"]])\n",
    "value_pred"
   ]
  },
  {
   "cell_type": "code",
   "execution_count": 19,
   "id": "e463ffb6",
   "metadata": {},
   "outputs": [
    {
     "name": "stdout",
     "output_type": "stream",
     "text": [
      "[0.7128727258302299, 0.7818279363628998, 0.8878296104996868, 0.9832918983563416, 1.0, 1.0, 1.0, 1.0, 1.0, 1.0, 1.0, 1.0, 1.0, 1.0, 1.0, 1.0, 1.0, 1.0, 1.0, 1.0] [106.87561838513037, 81.20884469438546, 41.752493827035664, 6.2191538591063384, 1.3876917926218992e-14, 8.676242933279492e-16, 7.505701925534136e-17, 3.460363790103357e-17, 6.231884856490982e-18, 1.0564227226018173e-17, 1.677306299762733e-18, 4.920717568147463e-19, 2.0150171147698761e-19, 2.6226563907114363e-19, 1.3546353784674913e-19, 1.702883858063009e-19, 4.841486891138284e-20, 2.687184718333483e-20, 2.2321438198394545e-20, 7.455235292834511e-21]\n",
      "[0.7128727258302299, 0.7818279363628998, 0.8878296104996868, 0.9832918983563416, 1.0, 1.0, 1.0, 1.0, 1.0, 1.0, 1.0, 1.0, 1.0, 1.0, 1.0, 1.0, 1.0, 1.0, 1.0, 1.0] [106.87561838513037, 81.20884469438546, 41.752493827035664, 6.2191538591063384, 1.3876917926218992e-14, 8.676242933279492e-16, 7.505701925534136e-17, 3.460363790103357e-17, 6.231884856490982e-18, 1.0564227226018173e-17, 1.677306299762733e-18, 4.920717568147463e-19, 2.0150171147698761e-19, 2.6226563907114363e-19, 1.3546353784674913e-19, 1.702883858063009e-19, 4.841486891138284e-20, 2.687184718333483e-20, 2.2321438198394545e-20, 7.455235292834511e-21]\n",
      "[0.7128727258302299, 0.7818279363628998, 0.8878296104996868, 0.9832918983563416, 1.0, 1.0, 1.0, 1.0, 1.0, 1.0, 1.0, 1.0, 1.0, 1.0, 1.0, 1.0, 1.0, 1.0, 1.0, 1.0] [106.87561838513037, 81.20884469438546, 41.752493827035664, 6.2191538591063384, 1.3876917926218992e-14, 8.676242933279492e-16, 7.505701925534136e-17, 3.460363790103357e-17, 6.231884856490982e-18, 1.0564227226018173e-17, 1.677306299762733e-18, 4.920717568147463e-19, 2.0150171147698761e-19, 2.6226563907114363e-19, 1.3546353784674913e-19, 1.702883858063009e-19, 4.841486891138284e-20, 2.687184718333483e-20, 2.2321438198394545e-20, 7.455235292834511e-21]\n",
      "[0.7128727258302299, 0.7818279363628998, 0.8878296104996868, 0.9832918983563416, 1.0, 1.0, 1.0, 1.0, 1.0, 1.0, 1.0, 1.0, 1.0, 1.0, 1.0, 1.0, 1.0, 1.0, 1.0, 1.0] [106.87561838513037, 81.20884469438546, 41.752493827035664, 6.2191538591063384, 1.3876917926218992e-14, 8.676242933279492e-16, 7.505701925534136e-17, 3.460363790103357e-17, 6.231884856490982e-18, 1.0564227226018173e-17, 1.677306299762733e-18, 4.920717568147463e-19, 2.0150171147698761e-19, 2.6226563907114363e-19, 1.3546353784674913e-19, 1.702883858063009e-19, 4.841486891138284e-20, 2.687184718333483e-20, 2.2321438198394545e-20, 7.455235292834511e-21]\n",
      "[0.7128727258302299, 0.7818279363628998, 0.8878296104996868, 0.9832918983563416, 1.0, 1.0, 1.0, 1.0, 1.0, 1.0, 1.0, 1.0, 1.0, 1.0, 1.0, 1.0, 1.0, 1.0, 1.0, 1.0] [106.87561838513037, 81.20884469438546, 41.752493827035664, 6.2191538591063384, 1.3876917926218992e-14, 8.676242933279492e-16, 7.505701925534136e-17, 3.460363790103357e-17, 6.231884856490982e-18, 1.0564227226018173e-17, 1.677306299762733e-18, 4.920717568147463e-19, 2.0150171147698761e-19, 2.6226563907114363e-19, 1.3546353784674913e-19, 1.702883858063009e-19, 4.841486891138284e-20, 2.687184718333483e-20, 2.2321438198394545e-20, 7.455235292834511e-21]\n",
      "[0.7128727258302299, 0.7818279363628998, 0.8878296104996868, 0.9832918983563416, 1.0, 1.0, 1.0, 1.0, 1.0, 1.0, 1.0, 1.0, 1.0, 1.0, 1.0, 1.0, 1.0, 1.0, 1.0, 1.0] [106.87561838513037, 81.20884469438546, 41.752493827035664, 6.2191538591063384, 1.3876917926218992e-14, 8.676242933279492e-16, 7.505701925534136e-17, 3.460363790103357e-17, 6.231884856490982e-18, 1.0564227226018173e-17, 1.677306299762733e-18, 4.920717568147463e-19, 2.0150171147698761e-19, 2.6226563907114363e-19, 1.3546353784674913e-19, 1.702883858063009e-19, 4.841486891138284e-20, 2.687184718333483e-20, 2.2321438198394545e-20, 7.455235292834511e-21]\n",
      "[0.7128727258302299, 0.7818279363628998, 0.8878296104996868, 0.9832918983563416, 1.0, 1.0, 1.0, 1.0, 1.0, 1.0, 1.0, 1.0, 1.0, 1.0, 1.0, 1.0, 1.0, 1.0, 1.0, 1.0] [106.87561838513037, 81.20884469438546, 41.752493827035664, 6.2191538591063384, 1.3876917926218992e-14, 8.676242933279492e-16, 7.505701925534136e-17, 3.460363790103357e-17, 6.231884856490982e-18, 1.0564227226018173e-17, 1.677306299762733e-18, 4.920717568147463e-19, 2.0150171147698761e-19, 2.6226563907114363e-19, 1.3546353784674913e-19, 1.702883858063009e-19, 4.841486891138284e-20, 2.687184718333483e-20, 2.2321438198394545e-20, 7.455235292834511e-21]\n",
      "[0.7128727258302299, 0.7818279363628998, 0.8878296104996868, 0.9832918983563416, 1.0, 1.0, 1.0, 1.0, 1.0, 1.0, 1.0, 1.0, 1.0, 1.0, 1.0, 1.0, 1.0, 1.0, 1.0, 1.0] [106.87561838513037, 81.20884469438546, 41.752493827035664, 6.2191538591063384, 1.3876917926218992e-14, 8.676242933279492e-16, 7.505701925534136e-17, 3.460363790103357e-17, 6.231884856490982e-18, 1.0564227226018173e-17, 1.677306299762733e-18, 4.920717568147463e-19, 2.0150171147698761e-19, 2.6226563907114363e-19, 1.3546353784674913e-19, 1.702883858063009e-19, 4.841486891138284e-20, 2.687184718333483e-20, 2.2321438198394545e-20, 7.455235292834511e-21]\n",
      "[0.7128727258302299, 0.7818279363628998, 0.8878296104996868, 0.9832918983563416, 1.0, 1.0, 1.0, 1.0, 1.0, 1.0, 1.0, 1.0, 1.0, 1.0, 1.0, 1.0, 1.0, 1.0, 1.0, 1.0] [106.87561838513037, 81.20884469438546, 41.752493827035664, 6.2191538591063384, 1.3876917926218992e-14, 8.676242933279492e-16, 7.505701925534136e-17, 3.460363790103357e-17, 6.231884856490982e-18, 1.0564227226018173e-17, 1.677306299762733e-18, 4.920717568147463e-19, 2.0150171147698761e-19, 2.6226563907114363e-19, 1.3546353784674913e-19, 1.702883858063009e-19, 4.841486891138284e-20, 2.687184718333483e-20, 2.2321438198394545e-20, 7.455235292834511e-21]\n",
      "[0.7128727258302299, 0.7818279363628998, 0.8878296104996868, 0.9832918983563416, 1.0, 1.0, 1.0, 1.0, 1.0, 1.0, 1.0, 1.0, 1.0, 1.0, 1.0, 1.0, 1.0, 1.0, 1.0, 1.0] [106.87561838513037, 81.20884469438546, 41.752493827035664, 6.2191538591063384, 1.3876917926218992e-14, 8.676242933279492e-16, 7.505701925534136e-17, 3.460363790103357e-17, 6.231884856490982e-18, 1.0564227226018173e-17, 1.677306299762733e-18, 4.920717568147463e-19, 2.0150171147698761e-19, 2.6226563907114363e-19, 1.3546353784674913e-19, 1.702883858063009e-19, 4.841486891138284e-20, 2.687184718333483e-20, 2.2321438198394545e-20, 7.455235292834511e-21]\n",
      "[0.7128727258302299, 0.7818279363628998, 0.8878296104996868, 0.9832918983563416, 1.0, 1.0, 1.0, 1.0, 1.0, 1.0, 1.0, 1.0, 1.0, 1.0, 1.0, 1.0, 1.0, 1.0, 1.0, 1.0] [106.87561838513037, 81.20884469438546, 41.752493827035664, 6.2191538591063384, 1.3876917926218992e-14, 8.676242933279492e-16, 7.505701925534136e-17, 3.460363790103357e-17, 6.231884856490982e-18, 1.0564227226018173e-17, 1.677306299762733e-18, 4.920717568147463e-19, 2.0150171147698761e-19, 2.6226563907114363e-19, 1.3546353784674913e-19, 1.702883858063009e-19, 4.841486891138284e-20, 2.687184718333483e-20, 2.2321438198394545e-20, 7.455235292834511e-21]\n",
      "[0.7128727258302299, 0.7818279363628998, 0.8878296104996868, 0.9832918983563416, 1.0, 1.0, 1.0, 1.0, 1.0, 1.0, 1.0, 1.0, 1.0, 1.0, 1.0, 1.0, 1.0, 1.0, 1.0, 1.0] [106.87561838513037, 81.20884469438546, 41.752493827035664, 6.2191538591063384, 1.3876917926218992e-14, 8.676242933279492e-16, 7.505701925534136e-17, 3.460363790103357e-17, 6.231884856490982e-18, 1.0564227226018173e-17, 1.677306299762733e-18, 4.920717568147463e-19, 2.0150171147698761e-19, 2.6226563907114363e-19, 1.3546353784674913e-19, 1.702883858063009e-19, 4.841486891138284e-20, 2.687184718333483e-20, 2.2321438198394545e-20, 7.455235292834511e-21]\n",
      "[0.7128727258302299, 0.7818279363628998, 0.8878296104996868, 0.9832918983563416, 1.0, 1.0, 1.0, 1.0, 1.0, 1.0, 1.0, 1.0, 1.0, 1.0, 1.0, 1.0, 1.0, 1.0, 1.0, 1.0] [106.87561838513037, 81.20884469438546, 41.752493827035664, 6.2191538591063384, 1.3876917926218992e-14, 8.676242933279492e-16, 7.505701925534136e-17, 3.460363790103357e-17, 6.231884856490982e-18, 1.0564227226018173e-17, 1.677306299762733e-18, 4.920717568147463e-19, 2.0150171147698761e-19, 2.6226563907114363e-19, 1.3546353784674913e-19, 1.702883858063009e-19, 4.841486891138284e-20, 2.687184718333483e-20, 2.2321438198394545e-20, 7.455235292834511e-21]\n",
      "[0.7128727258302299, 0.7818279363628998, 0.8878296104996868, 0.9832918983563416, 1.0, 1.0, 1.0, 1.0, 1.0, 1.0, 1.0, 1.0, 1.0, 1.0, 1.0, 1.0, 1.0, 1.0, 1.0, 1.0] [106.87561838513037, 81.20884469438546, 41.752493827035664, 6.2191538591063384, 1.3876917926218992e-14, 8.676242933279492e-16, 7.505701925534136e-17, 3.460363790103357e-17, 6.231884856490982e-18, 1.0564227226018173e-17, 1.677306299762733e-18, 4.920717568147463e-19, 2.0150171147698761e-19, 2.6226563907114363e-19, 1.3546353784674913e-19, 1.702883858063009e-19, 4.841486891138284e-20, 2.687184718333483e-20, 2.2321438198394545e-20, 7.455235292834511e-21]\n",
      "[0.7128727258302299, 0.7818279363628998, 0.8878296104996868, 0.9832918983563416, 1.0, 1.0, 1.0, 1.0, 1.0, 1.0, 1.0, 1.0, 1.0, 1.0, 1.0, 1.0, 1.0, 1.0, 1.0, 1.0] [106.87561838513037, 81.20884469438546, 41.752493827035664, 6.2191538591063384, 1.3876917926218992e-14, 8.676242933279492e-16, 7.505701925534136e-17, 3.460363790103357e-17, 6.231884856490982e-18, 1.0564227226018173e-17, 1.677306299762733e-18, 4.920717568147463e-19, 2.0150171147698761e-19, 2.6226563907114363e-19, 1.3546353784674913e-19, 1.702883858063009e-19, 4.841486891138284e-20, 2.687184718333483e-20, 2.2321438198394545e-20, 7.455235292834511e-21]\n",
      "[0.7128727258302299, 0.7818279363628998, 0.8878296104996868, 0.9832918983563416, 1.0, 1.0, 1.0, 1.0, 1.0, 1.0, 1.0, 1.0, 1.0, 1.0, 1.0, 1.0, 1.0, 1.0, 1.0, 1.0] [106.87561838513037, 81.20884469438546, 41.752493827035664, 6.2191538591063384, 1.3876917926218992e-14, 8.676242933279492e-16, 7.505701925534136e-17, 3.460363790103357e-17, 6.231884856490982e-18, 1.0564227226018173e-17, 1.677306299762733e-18, 4.920717568147463e-19, 2.0150171147698761e-19, 2.6226563907114363e-19, 1.3546353784674913e-19, 1.702883858063009e-19, 4.841486891138284e-20, 2.687184718333483e-20, 2.2321438198394545e-20, 7.455235292834511e-21]\n",
      "[0.7128727258302299, 0.7818279363628998, 0.8878296104996868, 0.9832918983563416, 1.0, 1.0, 1.0, 1.0, 1.0, 1.0, 1.0, 1.0, 1.0, 1.0, 1.0, 1.0, 1.0, 1.0, 1.0, 1.0] [106.87561838513037, 81.20884469438546, 41.752493827035664, 6.2191538591063384, 1.3876917926218992e-14, 8.676242933279492e-16, 7.505701925534136e-17, 3.460363790103357e-17, 6.231884856490982e-18, 1.0564227226018173e-17, 1.677306299762733e-18, 4.920717568147463e-19, 2.0150171147698761e-19, 2.6226563907114363e-19, 1.3546353784674913e-19, 1.702883858063009e-19, 4.841486891138284e-20, 2.687184718333483e-20, 2.2321438198394545e-20, 7.455235292834511e-21]\n",
      "[0.7128727258302299, 0.7818279363628998, 0.8878296104996868, 0.9832918983563416, 1.0, 1.0, 1.0, 1.0, 1.0, 1.0, 1.0, 1.0, 1.0, 1.0, 1.0, 1.0, 1.0, 1.0, 1.0, 1.0] [106.87561838513037, 81.20884469438546, 41.752493827035664, 6.2191538591063384, 1.3876917926218992e-14, 8.676242933279492e-16, 7.505701925534136e-17, 3.460363790103357e-17, 6.231884856490982e-18, 1.0564227226018173e-17, 1.677306299762733e-18, 4.920717568147463e-19, 2.0150171147698761e-19, 2.6226563907114363e-19, 1.3546353784674913e-19, 1.702883858063009e-19, 4.841486891138284e-20, 2.687184718333483e-20, 2.2321438198394545e-20, 7.455235292834511e-21]\n",
      "[0.7128727258302299, 0.7818279363628998, 0.8878296104996868, 0.9832918983563416, 1.0, 1.0, 1.0, 1.0, 1.0, 1.0, 1.0, 1.0, 1.0, 1.0, 1.0, 1.0, 1.0, 1.0, 1.0, 1.0] [106.87561838513037, 81.20884469438546, 41.752493827035664, 6.2191538591063384, 1.3876917926218992e-14, 8.676242933279492e-16, 7.505701925534136e-17, 3.460363790103357e-17, 6.231884856490982e-18, 1.0564227226018173e-17, 1.677306299762733e-18, 4.920717568147463e-19, 2.0150171147698761e-19, 2.6226563907114363e-19, 1.3546353784674913e-19, 1.702883858063009e-19, 4.841486891138284e-20, 2.687184718333483e-20, 2.2321438198394545e-20, 7.455235292834511e-21]\n",
      "[0.7128727258302299, 0.7818279363628998, 0.8878296104996868, 0.9832918983563416, 1.0, 1.0, 1.0, 1.0, 1.0, 1.0, 1.0, 1.0, 1.0, 1.0, 1.0, 1.0, 1.0, 1.0, 1.0, 1.0] [106.87561838513037, 81.20884469438546, 41.752493827035664, 6.2191538591063384, 1.3876917926218992e-14, 8.676242933279492e-16, 7.505701925534136e-17, 3.460363790103357e-17, 6.231884856490982e-18, 1.0564227226018173e-17, 1.677306299762733e-18, 4.920717568147463e-19, 2.0150171147698761e-19, 2.6226563907114363e-19, 1.3546353784674913e-19, 1.702883858063009e-19, 4.841486891138284e-20, 2.687184718333483e-20, 2.2321438198394545e-20, 7.455235292834511e-21]\n"
     ]
    }
   ],
   "source": [
    "#check the results\n",
    "r2_new=[]\n",
    "MSE_new=[]\n",
    "degree=[1,2,3,4,5,6,7,8,9,10,11,12,13,14,15,16,17,18,19,20]\n",
    "for i in degree:\n",
    "    Input=[(('polynomial'), PolynomialFeatures(degree=i)), ('modal', linear_model.LinearRegression())]\n",
    "    pipe=Pipeline(Input)\n",
    "    pipe.fit(df[[\"Overall\"]],df[\"Value(m)\"])\n",
    "    Yhat_new=pipe.predict(df[[\"Overall\"]])\n",
    "    \n",
    "    r2_value=r2_score(df[\"Value(m)\"],Yhat_new)\n",
    "    r2_new.append(r2_value)\n",
    "    \n",
    "    MSE_value=mean_squared_error(df[\"Value(m)\"],Yhat_new)\n",
    "    MSE_new.append(MSE_value)\n",
    "    print (r2,MSE)"
   ]
  },
  {
   "cell_type": "code",
   "execution_count": 20,
   "id": "c7e3fb44",
   "metadata": {},
   "outputs": [
    {
     "data": {
      "application/vnd.microsoft.datawrangler.viewer.v0+json": {
       "columns": [
        {
         "name": "index",
         "rawType": "int64",
         "type": "integer"
        },
        {
         "name": "Ovarall",
         "rawType": "float64",
         "type": "float"
        },
        {
         "name": "Actual value",
         "rawType": "float64",
         "type": "float"
        },
        {
         "name": "Predicted value",
         "rawType": "float64",
         "type": "float"
        }
       ],
       "ref": "9a8ca184-6434-416f-836b-5a0154170f7f",
       "rows": [
        [
         "0",
         "94.0",
         "110.5",
         "95.5178520231334"
        ],
        [
         "1",
         "94.0",
         "77.0",
         "95.5178520231334"
        ],
        [
         "2",
         "92.0",
         "118.5",
         "94.47566890479487"
        ],
        [
         "4",
         "91.0",
         "102.0",
         "86.99202393181702"
        ],
        [
         "5",
         "91.0",
         "93.0",
         "86.99202393181702"
        ],
        [
         "6",
         "91.0",
         "51.0",
         "86.99202393181702"
        ],
        [
         "8",
         "90.0",
         "77.0",
         "77.37175036186412"
        ],
        [
         "9",
         "90.0",
         "76.5",
         "77.37175036186412"
        ],
        [
         "10",
         "90.0",
         "60.0",
         "77.37175036186412"
        ],
        [
         "11",
         "89.0",
         "89.0",
         "67.02292633512896"
        ],
        [
         "12",
         "89.0",
         "83.5",
         "67.02292633512896"
        ],
        [
         "13",
         "89.0",
         "78.0",
         "67.02292633512896"
        ],
        [
         "16",
         "89.0",
         "51.5",
         "67.02292633512896"
        ],
        [
         "17",
         "89.0",
         "60.0",
         "67.02292633512896"
        ],
        [
         "19",
         "89.0",
         "27.0",
         "67.02292633512896"
        ],
        [
         "20",
         "88.0",
         "69.5",
         "57.00505490878592"
        ],
        [
         "21",
         "88.0",
         "59.5",
         "57.00505490878592"
        ],
        [
         "22",
         "88.0",
         "62.0",
         "57.00505490878592"
        ],
        [
         "23",
         "88.0",
         "73.5",
         "57.00505490878592"
        ],
        [
         "24",
         "88.0",
         "73.5",
         "57.00505490878592"
        ],
        [
         "25",
         "88.0",
         "69.5",
         "57.00505490878592"
        ],
        [
         "26",
         "88.0",
         "59.0",
         "57.00505490878592"
        ],
        [
         "27",
         "88.0",
         "46.0",
         "57.00505490878592"
        ],
        [
         "28",
         "88.0",
         "43.0",
         "57.00505490878592"
        ],
        [
         "29",
         "88.0",
         "60.0",
         "57.00505490878592"
        ],
        [
         "31",
         "88.0",
         "24.0",
         "57.00505490878592"
        ],
        [
         "33",
         "87.0",
         "57.0",
         "48.06848180519272"
        ],
        [
         "34",
         "87.0",
         "64.5",
         "48.06848180519272"
        ],
        [
         "35",
         "87.0",
         "51.0",
         "48.06848180519272"
        ],
        [
         "36",
         "87.0",
         "64.0",
         "48.06848180519272"
        ],
        [
         "38",
         "87.0",
         "62.5",
         "48.06848180519272"
        ],
        [
         "39",
         "87.0",
         "52.0",
         "48.06848180519272"
        ],
        [
         "40",
         "87.0",
         "38.0",
         "48.06848180519272"
        ],
        [
         "41",
         "87.0",
         "45.0",
         "48.06848180519272"
        ],
        [
         "42",
         "87.0",
         "34.0",
         "48.06848180519272"
        ],
        [
         "43",
         "86.0",
         "59.5",
         "40.69975459922354"
        ],
        [
         "45",
         "86.0",
         "44.5",
         "40.69975459922354"
        ],
        [
         "46",
         "86.0",
         "56.5",
         "40.69975459922354"
        ],
        [
         "47",
         "86.0",
         "53.0",
         "40.69975459922354"
        ],
        [
         "48",
         "86.0",
         "50.0",
         "40.69975459922354"
        ],
        [
         "49",
         "86.0",
         "55.0",
         "40.69975459922354"
        ],
        [
         "50",
         "86.0",
         "36.5",
         "40.69975459922354"
        ],
        [
         "51",
         "86.0",
         "46.5",
         "40.69975459922354"
        ],
        [
         "52",
         "86.0",
         "45.5",
         "40.69975459922354"
        ],
        [
         "53",
         "86.0",
         "43.5",
         "40.69975459922354"
        ],
        [
         "54",
         "86.0",
         "35.0",
         "40.69975459922354"
        ],
        [
         "55",
         "86.0",
         "30.0",
         "40.69975459922354"
        ],
        [
         "56",
         "86.0",
         "39.0",
         "40.69975459922354"
        ],
        [
         "57",
         "86.0",
         "30.0",
         "40.69975459922354"
        ],
        [
         "58",
         "86.0",
         "18.0",
         "40.69975459922354"
        ]
       ],
       "shape": {
        "columns": 3,
        "rows": 138
       }
      },
      "text/html": [
       "<div>\n",
       "<style scoped>\n",
       "    .dataframe tbody tr th:only-of-type {\n",
       "        vertical-align: middle;\n",
       "    }\n",
       "\n",
       "    .dataframe tbody tr th {\n",
       "        vertical-align: top;\n",
       "    }\n",
       "\n",
       "    .dataframe thead th {\n",
       "        text-align: right;\n",
       "    }\n",
       "</style>\n",
       "<table border=\"1\" class=\"dataframe\">\n",
       "  <thead>\n",
       "    <tr style=\"text-align: right;\">\n",
       "      <th></th>\n",
       "      <th>Ovarall</th>\n",
       "      <th>Actual value</th>\n",
       "      <th>Predicted value</th>\n",
       "    </tr>\n",
       "  </thead>\n",
       "  <tbody>\n",
       "    <tr>\n",
       "      <th>0</th>\n",
       "      <td>94.0</td>\n",
       "      <td>110.5</td>\n",
       "      <td>95.517852</td>\n",
       "    </tr>\n",
       "    <tr>\n",
       "      <th>1</th>\n",
       "      <td>94.0</td>\n",
       "      <td>77.0</td>\n",
       "      <td>95.517852</td>\n",
       "    </tr>\n",
       "    <tr>\n",
       "      <th>2</th>\n",
       "      <td>92.0</td>\n",
       "      <td>118.5</td>\n",
       "      <td>94.475669</td>\n",
       "    </tr>\n",
       "    <tr>\n",
       "      <th>4</th>\n",
       "      <td>91.0</td>\n",
       "      <td>102.0</td>\n",
       "      <td>86.992024</td>\n",
       "    </tr>\n",
       "    <tr>\n",
       "      <th>5</th>\n",
       "      <td>91.0</td>\n",
       "      <td>93.0</td>\n",
       "      <td>86.992024</td>\n",
       "    </tr>\n",
       "    <tr>\n",
       "      <th>...</th>\n",
       "      <td>...</td>\n",
       "      <td>...</td>\n",
       "      <td>...</td>\n",
       "    </tr>\n",
       "    <tr>\n",
       "      <th>151</th>\n",
       "      <td>83.0</td>\n",
       "      <td>19.0</td>\n",
       "      <td>29.875631</td>\n",
       "    </tr>\n",
       "    <tr>\n",
       "      <th>152</th>\n",
       "      <td>83.0</td>\n",
       "      <td>26.5</td>\n",
       "      <td>29.875631</td>\n",
       "    </tr>\n",
       "    <tr>\n",
       "      <th>153</th>\n",
       "      <td>83.0</td>\n",
       "      <td>30.5</td>\n",
       "      <td>29.875631</td>\n",
       "    </tr>\n",
       "    <tr>\n",
       "      <th>154</th>\n",
       "      <td>83.0</td>\n",
       "      <td>25.5</td>\n",
       "      <td>29.875631</td>\n",
       "    </tr>\n",
       "    <tr>\n",
       "      <th>155</th>\n",
       "      <td>83.0</td>\n",
       "      <td>26.5</td>\n",
       "      <td>29.875631</td>\n",
       "    </tr>\n",
       "  </tbody>\n",
       "</table>\n",
       "<p>138 rows × 3 columns</p>\n",
       "</div>"
      ],
      "text/plain": [
       "     Ovarall  Actual value  Predicted value\n",
       "0       94.0         110.5        95.517852\n",
       "1       94.0          77.0        95.517852\n",
       "2       92.0         118.5        94.475669\n",
       "4       91.0         102.0        86.992024\n",
       "5       91.0          93.0        86.992024\n",
       "..       ...           ...              ...\n",
       "151     83.0          19.0        29.875631\n",
       "152     83.0          26.5        29.875631\n",
       "153     83.0          30.5        29.875631\n",
       "154     83.0          25.5        29.875631\n",
       "155     83.0          26.5        29.875631\n",
       "\n",
       "[138 rows x 3 columns]"
      ]
     },
     "execution_count": 20,
     "metadata": {},
     "output_type": "execute_result"
    }
   ],
   "source": [
    "#compare the results\n",
    "result_new=pd.DataFrame({\"Ovarall\":df[\"Overall\"],\"Actual value\":df[\"Value(m)\"],\"Predicted value\":Yhat_new})\n",
    "result_new"
   ]
  },
  {
   "cell_type": "code",
   "execution_count": 21,
   "id": "8b431886",
   "metadata": {},
   "outputs": [
    {
     "data": {
      "text/plain": [
       "[<matplotlib.lines.Line2D at 0x26310505010>]"
      ]
     },
     "execution_count": 21,
     "metadata": {},
     "output_type": "execute_result"
    },
    {
     "data": {
      "image/png": "[encoded data removed]",
      "text/plain": [
       "<Figure size 1500x800 with 1 Axes>"
      ]
     },
     "metadata": {},
     "output_type": "display_data"
    }
   ],
   "source": [
    "plt.figure(figsize=(15,8))\n",
    "plt.scatter(df[\"Overall\"],df[\"Value(m)\"])\n",
    "plt.plot(df[\"Overall\"],Yhat_new,color=\"r\")"
   ]
  },
  {
   "cell_type": "code",
   "execution_count": 22,
   "id": "b5a26915",
   "metadata": {},
   "outputs": [
    {
     "name": "stdout",
     "output_type": "stream",
     "text": [
      "0.8397354348812367\n",
      "19\n"
     ]
    }
   ],
   "source": [
    "#check the results\n",
    "r2_new2=[]\n",
    "MSE_new2=[]\n",
    "degree=[1,2,3,4,5,6,7,8,9,10,11,12,13,14,15,16,17,18,19,20]\n",
    "for i in degree:\n",
    "    Input=[(('polynomial'), PolynomialFeatures(degree=i)), ('modal', linear_model.LinearRegression())]\n",
    "    pipe=Pipeline(Input)\n",
    "    pipe.fit(df[[\"Overall\",\"BallControl\"]],df[\"Value(m)\"])\n",
    "    Yhat_new2=pipe.predict(df[[\"Overall\",\"BallControl\"]])\n",
    "    \n",
    "    r2_value=r2_score(df[\"Value(m)\"],Yhat_new2)\n",
    "    r2_new2.append(r2_value)  # Append to r2_new2 instead of r2_new\n",
    "    \n",
    "    MSE_value=mean_squared_error(df[\"Value(m)\"],Yhat_new2)\n",
    "    MSE_new2.append(MSE_value)\n",
    "    \n",
    "print(max(r2_new2))\n",
    "print(r2_new2.index(max(r2_new2)))\n",
    "\n"
   ]
  },
  {
   "cell_type": "code",
   "execution_count": 23,
   "id": "a46511a5",
   "metadata": {},
   "outputs": [
    {
     "data": {
      "application/vnd.microsoft.datawrangler.viewer.v0+json": {
       "columns": [
        {
         "name": "index",
         "rawType": "int64",
         "type": "integer"
        },
        {
         "name": "Overall",
         "rawType": "float64",
         "type": "float"
        },
        {
         "name": "Finishing",
         "rawType": "float64",
         "type": "float"
        },
        {
         "name": "ShortPassing",
         "rawType": "float64",
         "type": "float"
        },
        {
         "name": "BallControl",
         "rawType": "float64",
         "type": "float"
        },
        {
         "name": "Vision",
         "rawType": "float64",
         "type": "float"
        },
        {
         "name": "Actual Value(m)",
         "rawType": "float64",
         "type": "float"
        },
        {
         "name": "Predicted Value(m)",
         "rawType": "float64",
         "type": "float"
        }
       ],
       "ref": "1a1d8d7a-d0b4-4ace-8ed8-17f0db34d39e",
       "rows": [
        [
         "0",
         "94.0",
         "95.0",
         "90.0",
         "96.0",
         "94.0",
         "110.5",
         "110.62821960868314"
        ],
        [
         "1",
         "94.0",
         "94.0",
         "81.0",
         "94.0",
         "82.0",
         "77.0",
         "76.98695545038208"
        ],
        [
         "2",
         "92.0",
         "87.0",
         "84.0",
         "95.0",
         "87.0",
         "118.5",
         "118.35700400732458"
        ],
        [
         "4",
         "91.0",
         "82.0",
         "92.0",
         "91.0",
         "94.0",
         "102.0",
         "101.96965678036213"
        ],
        [
         "5",
         "91.0",
         "84.0",
         "89.0",
         "94.0",
         "89.0",
         "93.0",
         "91.57442122511566"
        ],
        [
         "6",
         "91.0",
         "60.0",
         "78.0",
         "84.0",
         "63.0",
         "51.0",
         "51.08034539362416"
        ],
        [
         "8",
         "90.0",
         "91.0",
         "83.0",
         "89.0",
         "77.0",
         "77.0",
         "77.11574138654396"
        ],
        [
         "9",
         "90.0",
         "76.0",
         "92.0",
         "90.0",
         "86.0",
         "76.5",
         "76.48356663575396"
        ],
        [
         "10",
         "90.0",
         "76.0",
         "93.0",
         "94.0",
         "92.0",
         "60.0",
         "60.98896479792893"
        ],
        [
         "11",
         "89.0",
         "84.0",
         "87.0",
         "92.0",
         "87.0",
         "89.0",
         "90.5106126172468"
        ],
        [
         "12",
         "89.0",
         "94.0",
         "80.0",
         "84.0",
         "80.0",
         "83.5",
         "82.91855775006115"
        ],
        [
         "13",
         "89.0",
         "90.0",
         "83.0",
         "90.0",
         "83.0",
         "78.0",
         "79.42051776498556"
        ],
        [
         "16",
         "89.0",
         "67.0",
         "89.0",
         "88.0",
         "87.0",
         "51.5",
         "50.89374815998599"
        ],
        [
         "17",
         "89.0",
         "89.0",
         "78.0",
         "82.0",
         "77.0",
         "60.0",
         "60.78202388389036"
        ],
        [
         "19",
         "89.0",
         "33.0",
         "59.0",
         "57.0",
         "50.0",
         "27.0",
         "27.011149579659104"
        ],
        [
         "20",
         "88.0",
         "90.0",
         "82.0",
         "88.0",
         "82.0",
         "69.5",
         "67.83325160341337"
        ],
        [
         "21",
         "88.0",
         "59.0",
         "85.0",
         "78.0",
         "77.0",
         "59.5",
         "59.72907335497439"
        ],
        [
         "22",
         "88.0",
         "77.0",
         "85.0",
         "93.0",
         "87.0",
         "62.0",
         "62.57748834695667"
        ],
        [
         "23",
         "88.0",
         "79.0",
         "89.0",
         "95.0",
         "89.0",
         "73.5",
         "73.57481636572629"
        ],
        [
         "24",
         "88.0",
         "80.0",
         "91.0",
         "91.0",
         "91.0",
         "73.5",
         "71.68408065196127"
        ],
        [
         "25",
         "88.0",
         "79.0",
         "88.0",
         "92.0",
         "90.0",
         "69.5",
         "70.57336261728778"
        ],
        [
         "26",
         "88.0",
         "88.0",
         "77.0",
         "82.0",
         "77.0",
         "59.0",
         "58.16614768607542"
        ],
        [
         "27",
         "88.0",
         "55.0",
         "81.0",
         "81.0",
         "79.0",
         "46.0",
         "46.414049295242876"
        ],
        [
         "28",
         "88.0",
         "70.0",
         "84.0",
         "92.0",
         "82.0",
         "43.0",
         "43.0847682938911"
        ],
        [
         "29",
         "88.0",
         "86.0",
         "85.0",
         "85.0",
         "79.0",
         "60.0",
         "59.980870614759624"
        ],
        [
         "31",
         "88.0",
         "38.0",
         "80.0",
         "80.0",
         "72.0",
         "24.0",
         "23.98108691163361"
        ],
        [
         "33",
         "87.0",
         "51.0",
         "81.0",
         "77.0",
         "58.0",
         "57.0",
         "56.84376702643931"
        ],
        [
         "34",
         "87.0",
         "91.0",
         "73.0",
         "81.0",
         "64.0",
         "64.5",
         "64.6183728594333"
        ],
        [
         "35",
         "87.0",
         "19.0",
         "66.0",
         "60.0",
         "43.0",
         "51.0",
         "51.02205845946446"
        ],
        [
         "36",
         "87.0",
         "73.0",
         "86.0",
         "90.0",
         "87.0",
         "64.0",
         "64.44526408892125"
        ],
        [
         "38",
         "87.0",
         "87.0",
         "77.0",
         "72.0",
         "76.0",
         "62.5",
         "62.50559773482382"
        ],
        [
         "39",
         "87.0",
         "90.0",
         "74.0",
         "83.0",
         "65.0",
         "52.0",
         "51.84246866684407"
        ],
        [
         "40",
         "87.0",
         "73.0",
         "84.0",
         "84.0",
         "70.0",
         "38.0",
         "37.98815122852102"
        ],
        [
         "41",
         "87.0",
         "86.0",
         "82.0",
         "89.0",
         "83.0",
         "45.0",
         "43.66175885684788"
        ],
        [
         "42",
         "87.0",
         "56.0",
         "79.0",
         "76.0",
         "68.0",
         "34.0",
         "33.53198511339724"
        ],
        [
         "43",
         "86.0",
         "75.0",
         "85.0",
         "91.0",
         "86.0",
         "59.5",
         "56.391830587759614"
        ],
        [
         "45",
         "86.0",
         "52.0",
         "76.0",
         "73.0",
         "59.0",
         "44.5",
         "44.038856418803334"
        ],
        [
         "46",
         "86.0",
         "77.0",
         "84.0",
         "87.0",
         "77.0",
         "56.5",
         "53.78983556572348"
        ],
        [
         "47",
         "86.0",
         "87.0",
         "86.0",
         "88.0",
         "85.0",
         "53.0",
         "53.45091706234962"
        ],
        [
         "48",
         "86.0",
         "40.0",
         "75.0",
         "77.0",
         "56.0",
         "50.0",
         "49.70012244768441"
        ],
        [
         "49",
         "86.0",
         "60.0",
         "90.0",
         "88.0",
         "87.0",
         "55.0",
         "55.30027521727607"
        ],
        [
         "50",
         "86.0",
         "55.0",
         "81.0",
         "81.0",
         "70.0",
         "36.5",
         "37.57509416434914"
        ],
        [
         "51",
         "86.0",
         "67.0",
         "84.0",
         "91.0",
         "84.0",
         "46.5",
         "46.298737389966846"
        ],
        [
         "52",
         "86.0",
         "69.0",
         "90.0",
         "90.0",
         "86.0",
         "45.5",
         "44.06275821616873"
        ],
        [
         "53",
         "86.0",
         "87.0",
         "86.0",
         "86.0",
         "86.0",
         "43.5",
         "45.53450757963583"
        ],
        [
         "54",
         "86.0",
         "46.0",
         "81.0",
         "77.0",
         "74.0",
         "35.0",
         "33.953272042796016"
        ],
        [
         "55",
         "86.0",
         "48.0",
         "77.0",
         "75.0",
         "74.0",
         "30.0",
         "29.95071071293205"
        ],
        [
         "56",
         "86.0",
         "45.0",
         "79.0",
         "74.0",
         "67.0",
         "39.0",
         "39.95619711931795"
        ],
        [
         "57",
         "86.0",
         "47.0",
         "65.0",
         "64.0",
         "47.0",
         "30.0",
         "29.989969198592007"
        ],
        [
         "58",
         "86.0",
         "69.0",
         "85.0",
         "82.0",
         "75.0",
         "18.0",
         "19.119936749339104"
        ]
       ],
       "shape": {
        "columns": 7,
        "rows": 138
       }
      },
      "text/html": [
       "<div>\n",
       "<style scoped>\n",
       "    .dataframe tbody tr th:only-of-type {\n",
       "        vertical-align: middle;\n",
       "    }\n",
       "\n",
       "    .dataframe tbody tr th {\n",
       "        vertical-align: top;\n",
       "    }\n",
       "\n",
       "    .dataframe thead th {\n",
       "        text-align: right;\n",
       "    }\n",
       "</style>\n",
       "<table border=\"1\" class=\"dataframe\">\n",
       "  <thead>\n",
       "    <tr style=\"text-align: right;\">\n",
       "      <th></th>\n",
       "      <th>Overall</th>\n",
       "      <th>Finishing</th>\n",
       "      <th>ShortPassing</th>\n",
       "      <th>BallControl</th>\n",
       "      <th>Vision</th>\n",
       "      <th>Actual Value(m)</th>\n",
       "      <th>Predicted Value(m)</th>\n",
       "    </tr>\n",
       "  </thead>\n",
       "  <tbody>\n",
       "    <tr>\n",
       "      <th>0</th>\n",
       "      <td>94.0</td>\n",
       "      <td>95.0</td>\n",
       "      <td>90.0</td>\n",
       "      <td>96.0</td>\n",
       "      <td>94.0</td>\n",
       "      <td>110.5</td>\n",
       "      <td>110.628220</td>\n",
       "    </tr>\n",
       "    <tr>\n",
       "      <th>1</th>\n",
       "      <td>94.0</td>\n",
       "      <td>94.0</td>\n",
       "      <td>81.0</td>\n",
       "      <td>94.0</td>\n",
       "      <td>82.0</td>\n",
       "      <td>77.0</td>\n",
       "      <td>76.986955</td>\n",
       "    </tr>\n",
       "    <tr>\n",
       "      <th>2</th>\n",
       "      <td>92.0</td>\n",
       "      <td>87.0</td>\n",
       "      <td>84.0</td>\n",
       "      <td>95.0</td>\n",
       "      <td>87.0</td>\n",
       "      <td>118.5</td>\n",
       "      <td>118.357004</td>\n",
       "    </tr>\n",
       "    <tr>\n",
       "      <th>4</th>\n",
       "      <td>91.0</td>\n",
       "      <td>82.0</td>\n",
       "      <td>92.0</td>\n",
       "      <td>91.0</td>\n",
       "      <td>94.0</td>\n",
       "      <td>102.0</td>\n",
       "      <td>101.969657</td>\n",
       "    </tr>\n",
       "    <tr>\n",
       "      <th>5</th>\n",
       "      <td>91.0</td>\n",
       "      <td>84.0</td>\n",
       "      <td>89.0</td>\n",
       "      <td>94.0</td>\n",
       "      <td>89.0</td>\n",
       "      <td>93.0</td>\n",
       "      <td>91.574421</td>\n",
       "    </tr>\n",
       "    <tr>\n",
       "      <th>...</th>\n",
       "      <td>...</td>\n",
       "      <td>...</td>\n",
       "      <td>...</td>\n",
       "      <td>...</td>\n",
       "      <td>...</td>\n",
       "      <td>...</td>\n",
       "      <td>...</td>\n",
       "    </tr>\n",
       "    <tr>\n",
       "      <th>151</th>\n",
       "      <td>83.0</td>\n",
       "      <td>37.0</td>\n",
       "      <td>73.0</td>\n",
       "      <td>72.0</td>\n",
       "      <td>65.0</td>\n",
       "      <td>19.0</td>\n",
       "      <td>18.705695</td>\n",
       "    </tr>\n",
       "    <tr>\n",
       "      <th>152</th>\n",
       "      <td>83.0</td>\n",
       "      <td>63.0</td>\n",
       "      <td>86.0</td>\n",
       "      <td>83.0</td>\n",
       "      <td>83.0</td>\n",
       "      <td>26.5</td>\n",
       "      <td>26.678740</td>\n",
       "    </tr>\n",
       "    <tr>\n",
       "      <th>153</th>\n",
       "      <td>83.0</td>\n",
       "      <td>78.0</td>\n",
       "      <td>78.0</td>\n",
       "      <td>82.0</td>\n",
       "      <td>74.0</td>\n",
       "      <td>30.5</td>\n",
       "      <td>36.961368</td>\n",
       "    </tr>\n",
       "    <tr>\n",
       "      <th>154</th>\n",
       "      <td>83.0</td>\n",
       "      <td>76.0</td>\n",
       "      <td>83.0</td>\n",
       "      <td>82.0</td>\n",
       "      <td>85.0</td>\n",
       "      <td>25.5</td>\n",
       "      <td>25.665974</td>\n",
       "    </tr>\n",
       "    <tr>\n",
       "      <th>155</th>\n",
       "      <td>83.0</td>\n",
       "      <td>63.0</td>\n",
       "      <td>84.0</td>\n",
       "      <td>84.0</td>\n",
       "      <td>82.0</td>\n",
       "      <td>26.5</td>\n",
       "      <td>24.384205</td>\n",
       "    </tr>\n",
       "  </tbody>\n",
       "</table>\n",
       "<p>138 rows × 7 columns</p>\n",
       "</div>"
      ],
      "text/plain": [
       "     Overall  Finishing  ShortPassing  BallControl  Vision  Actual Value(m)  \\\n",
       "0       94.0       95.0          90.0         96.0    94.0            110.5   \n",
       "1       94.0       94.0          81.0         94.0    82.0             77.0   \n",
       "2       92.0       87.0          84.0         95.0    87.0            118.5   \n",
       "4       91.0       82.0          92.0         91.0    94.0            102.0   \n",
       "5       91.0       84.0          89.0         94.0    89.0             93.0   \n",
       "..       ...        ...           ...          ...     ...              ...   \n",
       "151     83.0       37.0          73.0         72.0    65.0             19.0   \n",
       "152     83.0       63.0          86.0         83.0    83.0             26.5   \n",
       "153     83.0       78.0          78.0         82.0    74.0             30.5   \n",
       "154     83.0       76.0          83.0         82.0    85.0             25.5   \n",
       "155     83.0       63.0          84.0         84.0    82.0             26.5   \n",
       "\n",
       "     Predicted Value(m)  \n",
       "0            110.628220  \n",
       "1             76.986955  \n",
       "2            118.357004  \n",
       "4            101.969657  \n",
       "5             91.574421  \n",
       "..                  ...  \n",
       "151           18.705695  \n",
       "152           26.678740  \n",
       "153           36.961368  \n",
       "154           25.665974  \n",
       "155           24.384205  \n",
       "\n",
       "[138 rows x 7 columns]"
      ]
     },
     "execution_count": 23,
     "metadata": {},
     "output_type": "execute_result"
    }
   ],
   "source": [
    "\n",
    "# Display result_new2\n",
    "result_new2=pd.DataFrame({\"Overall\":df[\"Overall\"],\"Finishing\":df[\"Finishing\"],\"ShortPassing\":df[\"ShortPassing\"],\"BallControl\":df[\"BallControl\"],\"Vision\":df[\"Vision\"],\"Actual Value(m)\":df[\"Value(m)\"],\"Predicted Value(m)\":Yhat})\n",
    "result_new2"
   ]
  },
  {
   "cell_type": "code",
   "execution_count": 24,
   "id": "e2d01e2d",
   "metadata": {},
   "outputs": [
    {
     "data": {
      "text/plain": [
       "array([99.49056434, 50.63006019, 40.94838905, 85.52495765])"
      ]
     },
     "execution_count": 24,
     "metadata": {},
     "output_type": "execute_result"
    }
   ],
   "source": [
    "#prediction values of new players \n",
    "\n",
    "Input=[('polyominal', PolynomialFeatures(degree=20)), ('mode', linear_model.LinearRegression())]\n",
    "pipe=Pipeline(Input)\n",
    "pipe.fit(df[[\"Overall\",\"BallControl\"]],df[\"Value(m)\"])\n",
    "value_pred2=pipe.predict(df_new[[\"Overall\",\"BallControl\"]])\n",
    "value_pred2\n"
   ]
  },
  {
   "cell_type": "code",
   "execution_count": 25,
   "id": "c54fdcfd",
   "metadata": {},
   "outputs": [
    {
     "data": {
      "application/vnd.microsoft.datawrangler.viewer.v0+json": {
       "columns": [
        {
         "name": "index",
         "rawType": "int64",
         "type": "integer"
        },
        {
         "name": "Name",
         "rawType": "object",
         "type": "string"
        },
        {
         "name": "Overall",
         "rawType": "int64",
         "type": "integer"
        },
        {
         "name": "Finishing",
         "rawType": "int64",
         "type": "integer"
        },
        {
         "name": "ShortPassing",
         "rawType": "int64",
         "type": "integer"
        },
        {
         "name": "BallControl",
         "rawType": "int64",
         "type": "integer"
        },
        {
         "name": "Vision",
         "rawType": "int64",
         "type": "integer"
        },
        {
         "name": "Values",
         "rawType": "float64",
         "type": "float"
        }
       ],
       "ref": "c29fc4b2-0106-4c5b-a56f-b8e96240ddff",
       "rows": [
        [
         "0",
         "Ronaldo",
         "92",
         "99",
         "80",
         "89",
         "80",
         "99.49056434078493"
        ],
        [
         "1",
         "Kaka",
         "88",
         "90",
         "90",
         "87",
         "94",
         "50.6300601903943"
        ],
        [
         "2",
         "Beckham",
         "87",
         "88",
         "95",
         "85",
         "95",
         "40.94838904781618"
        ],
        [
         "3",
         "Henry",
         "90",
         "95",
         "86",
         "87",
         "90",
         "85.5249576513318"
        ]
       ],
       "shape": {
        "columns": 7,
        "rows": 4
       }
      },
      "text/html": [
       "<div>\n",
       "<style scoped>\n",
       "    .dataframe tbody tr th:only-of-type {\n",
       "        vertical-align: middle;\n",
       "    }\n",
       "\n",
       "    .dataframe tbody tr th {\n",
       "        vertical-align: top;\n",
       "    }\n",
       "\n",
       "    .dataframe thead th {\n",
       "        text-align: right;\n",
       "    }\n",
       "</style>\n",
       "<table border=\"1\" class=\"dataframe\">\n",
       "  <thead>\n",
       "    <tr style=\"text-align: right;\">\n",
       "      <th></th>\n",
       "      <th>Name</th>\n",
       "      <th>Overall</th>\n",
       "      <th>Finishing</th>\n",
       "      <th>ShortPassing</th>\n",
       "      <th>BallControl</th>\n",
       "      <th>Vision</th>\n",
       "      <th>Values</th>\n",
       "    </tr>\n",
       "  </thead>\n",
       "  <tbody>\n",
       "    <tr>\n",
       "      <th>0</th>\n",
       "      <td>Ronaldo</td>\n",
       "      <td>92</td>\n",
       "      <td>99</td>\n",
       "      <td>80</td>\n",
       "      <td>89</td>\n",
       "      <td>80</td>\n",
       "      <td>99.490564</td>\n",
       "    </tr>\n",
       "    <tr>\n",
       "      <th>1</th>\n",
       "      <td>Kaka</td>\n",
       "      <td>88</td>\n",
       "      <td>90</td>\n",
       "      <td>90</td>\n",
       "      <td>87</td>\n",
       "      <td>94</td>\n",
       "      <td>50.630060</td>\n",
       "    </tr>\n",
       "    <tr>\n",
       "      <th>2</th>\n",
       "      <td>Beckham</td>\n",
       "      <td>87</td>\n",
       "      <td>88</td>\n",
       "      <td>95</td>\n",
       "      <td>85</td>\n",
       "      <td>95</td>\n",
       "      <td>40.948389</td>\n",
       "    </tr>\n",
       "    <tr>\n",
       "      <th>3</th>\n",
       "      <td>Henry</td>\n",
       "      <td>90</td>\n",
       "      <td>95</td>\n",
       "      <td>86</td>\n",
       "      <td>87</td>\n",
       "      <td>90</td>\n",
       "      <td>85.524958</td>\n",
       "    </tr>\n",
       "  </tbody>\n",
       "</table>\n",
       "</div>"
      ],
      "text/plain": [
       "      Name  Overall  Finishing  ShortPassing  BallControl  Vision     Values\n",
       "0  Ronaldo       92         99            80           89      80  99.490564\n",
       "1     Kaka       88         90            90           87      94  50.630060\n",
       "2  Beckham       87         88            95           85      95  40.948389\n",
       "3    Henry       90         95            86           87      90  85.524958"
      ]
     },
     "execution_count": 25,
     "metadata": {},
     "output_type": "execute_result"
    }
   ],
   "source": [
    "#Append the predicted values to New players \n",
    "result_pred=df_new.join(pd.DataFrame({\"Values\":value_pred2}))\n",
    "result_pred"
   ]
  },
  {
   "cell_type": "code",
   "execution_count": 26,
   "id": "a01513e9",
   "metadata": {},
   "outputs": [],
   "source": [
    "#finally export to excile file\n",
    "result_pred.to_excel(\"Final_result.xlsx\")"
   ]
  }
 ],
 "metadata": {
  "kernelspec": {
   "display_name": "Python 3",
   "language": "python",
   "name": "python3"
  },
  "language_info": {
   "codemirror_mode": {
    "name": "ipython",
    "version": 3
   },
   "file_extension": ".py",
   "mimetype": "text/x-python",
   "name": "python",
   "nbconvert_exporter": "python",
   "pygments_lexer": "ipython3",
   "version": "3.11.9"
  }
 },
 "nbformat": 4,
 "nbformat_minor": 5
}
